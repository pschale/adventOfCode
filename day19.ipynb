{
 "cells": [
  {
   "cell_type": "code",
   "execution_count": 89,
   "metadata": {
    "collapsed": true
   },
   "outputs": [],
   "source": [
    "from matplotlib import pyplot as plt\n",
    "from copy import copy"
   ]
  },
  {
   "cell_type": "code",
   "execution_count": 4,
   "metadata": {
    "collapsed": true
   },
   "outputs": [],
   "source": [
    "with open('input_day19.txt') as f:\n",
    "    data = f.readlines()"
   ]
  },
  {
   "cell_type": "code",
   "execution_count": 5,
   "metadata": {
    "collapsed": true
   },
   "outputs": [],
   "source": [
    "inreg = int(data[0].split(' ')[-1])"
   ]
  },
  {
   "cell_type": "code",
   "execution_count": 9,
   "metadata": {
    "collapsed": true
   },
   "outputs": [],
   "source": [
    "instr = [ele.split(' ') for ele in data[1:]]\n",
    "for i, ele in enumerate(instr):\n",
    "    instr[i] = [funcs[ele[0]], int(ele[1]), int(ele[2]), int(ele[3][:-1])]"
   ]
  },
  {
   "cell_type": "code",
   "execution_count": 1,
   "metadata": {
    "collapsed": true
   },
   "outputs": [],
   "source": [
    "def addr(rin, inst):\n",
    "    return rin[inst[1]] + rin[inst[2]]\n",
    "def addi(rin, inst):\n",
    "    return rin[inst[1]] + inst[2]\n",
    "def mulr(rin, inst):\n",
    "    return rin[inst[1]] * rin[inst[2]]\n",
    "def muli(rin, inst):\n",
    "    return rin[inst[1]] * inst[2]\n",
    "def banr(rin, inst):\n",
    "    return rin[inst[1]] & rin[inst[2]]\n",
    "def bani(rin, inst):\n",
    "    return rin[inst[1]] & inst[2] \n",
    "def borr(rin, inst):\n",
    "    return rin[inst[1]] | rin[inst[2]]\n",
    "def bori(rin, inst):\n",
    "    return rin[inst[1]] | inst[2] \n",
    "def setr(rin, inst):\n",
    "    return rin[inst[1]]\n",
    "def seti(rin, inst):\n",
    "    return inst[1]\n",
    "def gtir(rin, inst):\n",
    "    return int(inst[1] > rin[inst[2]])\n",
    "def gtri(rin, inst):\n",
    "    return int(rin[inst[1]] > inst[2])\n",
    "def gtrr(rin, inst):\n",
    "    return int(rin[inst[1]] > rin[inst[2]])\n",
    "def eqir(rin, inst):\n",
    "    return int(inst[1] == rin[inst[2]])\n",
    "def eqri(rin, inst):\n",
    "    return int(rin[inst[1]] == inst[2])\n",
    "def eqrr(rin, inst):\n",
    "    return int(rin[inst[1]] == rin[inst[2]])"
   ]
  },
  {
   "cell_type": "code",
   "execution_count": 2,
   "metadata": {
    "collapsed": true
   },
   "outputs": [],
   "source": [
    "funcs = {'addr': addr,\n",
    "         'addi': addi,\n",
    "         'mulr': mulr,\n",
    "         'muli': muli,\n",
    "         'banr': banr,\n",
    "         'bani': bani,\n",
    "         'borr': borr,\n",
    "         'bori': bori,\n",
    "         'setr': setr,\n",
    "         'seti': seti,\n",
    "         'gtir': gtir,\n",
    "         'gtri': gtri,\n",
    "         'gtrr': gtrr,\n",
    "         'eqir': eqir,\n",
    "         'eqri': eqri,\n",
    "         'eqrr': eqrr}"
   ]
  },
  {
   "cell_type": "code",
   "execution_count": 11,
   "metadata": {},
   "outputs": [],
   "source": [
    "reg = [0 for i in range(6)]"
   ]
  },
  {
   "cell_type": "code",
   "execution_count": 125,
   "metadata": {},
   "outputs": [
    {
     "name": "stdout",
     "output_type": "stream",
     "text": [
      "1000000 [0, 124998, 1, 10551373, 0, 6]\n",
      "2000000 [0, 249998, 1, 10551373, 0, 6]\n",
      "3000000 [0, 374998, 1, 10551373, 0, 6]\n"
     ]
    },
    {
     "ename": "KeyboardInterrupt",
     "evalue": "",
     "output_type": "error",
     "traceback": [
      "\u001b[0;31m---------------------------------------------------------------------------\u001b[0m",
      "\u001b[0;31mKeyboardInterrupt\u001b[0m                         Traceback (most recent call last)",
      "\u001b[0;32m<ipython-input-125-d71c2cb79688>\u001b[0m in \u001b[0;36m<module>\u001b[0;34m()\u001b[0m\n\u001b[1;32m     13\u001b[0m     \u001b[0;31m#reg_history.append(copy(reg))\u001b[0m\u001b[0;34m\u001b[0m\u001b[0;34m\u001b[0m\u001b[0m\n\u001b[1;32m     14\u001b[0m     \u001b[0;31m#inum.append(i)\u001b[0m\u001b[0;34m\u001b[0m\u001b[0;34m\u001b[0m\u001b[0m\n\u001b[0;32m---> 15\u001b[0;31m     \u001b[0mreg\u001b[0m\u001b[0;34m[\u001b[0m\u001b[0minstr\u001b[0m\u001b[0;34m[\u001b[0m\u001b[0mi\u001b[0m\u001b[0;34m]\u001b[0m\u001b[0;34m[\u001b[0m\u001b[0;34m-\u001b[0m\u001b[0;36m1\u001b[0m\u001b[0;34m]\u001b[0m\u001b[0;34m]\u001b[0m \u001b[0;34m=\u001b[0m \u001b[0minstr\u001b[0m\u001b[0;34m[\u001b[0m\u001b[0mi\u001b[0m\u001b[0;34m]\u001b[0m\u001b[0;34m[\u001b[0m\u001b[0;36m0\u001b[0m\u001b[0;34m]\u001b[0m\u001b[0;34m(\u001b[0m\u001b[0mreg\u001b[0m\u001b[0;34m,\u001b[0m \u001b[0minstr\u001b[0m\u001b[0;34m[\u001b[0m\u001b[0mi\u001b[0m\u001b[0;34m]\u001b[0m\u001b[0;34m)\u001b[0m\u001b[0;34m\u001b[0m\u001b[0m\n\u001b[0m\u001b[1;32m     16\u001b[0m     \u001b[0mreg\u001b[0m\u001b[0;34m[\u001b[0m\u001b[0minreg\u001b[0m\u001b[0;34m]\u001b[0m \u001b[0;34m=\u001b[0m \u001b[0mreg\u001b[0m\u001b[0;34m[\u001b[0m\u001b[0minreg\u001b[0m\u001b[0;34m]\u001b[0m \u001b[0;34m+\u001b[0m \u001b[0;36m1\u001b[0m\u001b[0;34m\u001b[0m\u001b[0m\n\u001b[1;32m     17\u001b[0m     \u001b[0;31m#print(reg)\u001b[0m\u001b[0;34m\u001b[0m\u001b[0;34m\u001b[0m\u001b[0m\n",
      "\u001b[0;31mKeyboardInterrupt\u001b[0m: "
     ]
    }
   ],
   "source": [
    "reg = [0 for i in range(6)]\n",
    "reg[0] = 1\n",
    "#reg_history = []\n",
    "#inum = []\n",
    "#reg = [0, 10551373, 1, 10551373, 10551373, 4]\n",
    "#reg = [0, 74, 1, 103, 0, 5]\n",
    "#reg = [0, 10551372, 10551372, 10551373, 0, 5]\n",
    "#reg = [10551373, 10551370, 10551373, 10551373, 0, 6]\n",
    "#reg = [1, 5698625, 10551372, 10551373, 0, 11]\n",
    "counter = 1\n",
    "while True:\n",
    "    i = reg[inreg]\n",
    "    #reg_history.append(copy(reg))\n",
    "    #inum.append(i)\n",
    "    reg[instr[i][-1]] = instr[i][0](reg, instr[i])\n",
    "    reg[inreg] = reg[inreg] + 1\n",
    "    #print(reg)\n",
    "    if counter % 1e6 == 0:\n",
    "        print(counter, reg)\n",
    "    counter += 1\n",
    "    \n",
    "    #print(reg)\n",
    "\n",
    "    if reg[inreg] > len(instr):\n",
    "        print(reg[0])\n",
    "        break"
   ]
  },
  {
   "cell_type": "code",
   "execution_count": 105,
   "metadata": {},
   "outputs": [
    {
     "data": {
      "text/plain": [
       "[1, 6136551, 2, 10551373, 12273102, 4]"
      ]
     },
     "execution_count": 105,
     "metadata": {},
     "output_type": "execute_result"
    }
   ],
   "source": [
    "[1, 973, 2, 973, 1946, 4]\n",
    "[1, 973, 2, 973, 0, 5]\n",
    "[1, 973, 2, 973, 0, 6]\n",
    "[1, 973, 2, 973, 0, 8]\n",
    "[1, 974, 2, 973, 0, 9]\n",
    "[1, 974, 2, 973, 1, 10]\n",
    "[1, 974, 2, 973, 1, 12]\n",
    "[1, 974, 3, 973, 1, 13]\n",
    "[1, 974, 3, 973, 0, 14]\n",
    "[1, 974, 3, 973, 0, 15]\n",
    "[1, 974, 3, 973, 0, 2]\n",
    "[1, 1, 3, 973, 0, 3]\n",
    "[1, 1, 3, 973, 3, 4]\n",
    "[1, 1, 3, 973, 0, 5]\n",
    "[1, 1, 3, 973, 0, 6]\n",
    "[1, 1, 3, 973, 0, 8]\n",
    "[1, 2, 3, 973, 0, 9]\n",
    "[1, 2, 3, 973, 0, 10]\n",
    "[1, 2, 3, 973, 0, 11]"
   ]
  },
  {
   "cell_type": "code",
   "execution_count": 117,
   "metadata": {},
   "outputs": [],
   "source": [
    "def prime_factors(n):\n",
    "    i = 2\n",
    "    factors = []\n",
    "    while i * i <= n:\n",
    "        if n % i:\n",
    "            i += 1\n",
    "        else:\n",
    "            n //= i\n",
    "            factors.append(i)\n",
    "    if n > 1:\n",
    "        factors.append(n)\n",
    "    return factors"
   ]
  },
  {
   "cell_type": "code",
   "execution_count": 128,
   "metadata": {},
   "outputs": [
    {
     "data": {
      "text/plain": [
       "1120"
      ]
     },
     "execution_count": 128,
     "metadata": {},
     "output_type": "execute_result"
    }
   ],
   "source": [
    "sum(prime_factors(973)) + 1 + 973"
   ]
  },
  {
   "cell_type": "code",
   "execution_count": 129,
   "metadata": {},
   "outputs": [
    {
     "data": {
      "text/plain": [
       "[7, 17, 88667]"
      ]
     },
     "execution_count": 129,
     "metadata": {},
     "output_type": "execute_result"
    }
   ],
   "source": [
    "prime_factors(10551373)"
   ]
  },
  {
   "cell_type": "code",
   "execution_count": 130,
   "metadata": {},
   "outputs": [
    {
     "data": {
      "text/plain": [
       "12768192"
      ]
     },
     "execution_count": 130,
     "metadata": {},
     "output_type": "execute_result"
    }
   ],
   "source": [
    "sum([1, 10551373, 7, 17, 88667, 88667*7, 88667*17, 7*17])"
   ]
  },
  {
   "cell_type": "code",
   "execution_count": null,
   "metadata": {
    "collapsed": true
   },
   "outputs": [],
   "source": [
    "seti 1 8 2\n",
    "seti 1 1 1\n",
    "mulr 2 1 4\n",
    "eqrr 4 3 4\n",
    "addr 4 5 5\n",
    "addi 5 1 5\n",
    "addr 2 0 0\n",
    "addi 1 1 1\n",
    "gtrr 1 3 4\n",
    "addr 5 4 5\n",
    "seti 2 8 5\n",
    "addi 2 1 2\n",
    "gtrr 2 3 4\n",
    "addr 4 5 5\n",
    "seti 1 7 5\n",
    "mulr 5 5 5\n",
    "addi 3 2 3\n",
    "mulr 3 3 3\n",
    "mulr 5 3 3\n",
    "muli 3 11 3\n",
    "addi 4 6 4\n",
    "mulr 4 5 4\n",
    "addi 4 5 4\n",
    "addr 3 4 3\n",
    "addr 5 0 5\n",
    "seti 0 0 5\n",
    "setr 5 3 4\n",
    "mulr 4 5 4\n",
    "addr 5 4 4\n",
    "mulr 5 4 4\n",
    "muli 4 14 4\n",
    "mulr 4 5 4\n",
    "addr 3 4 3\n",
    "seti 0 3 0\n",
    "seti 0 0 5"
   ]
  }
 ],
 "metadata": {
  "kernelspec": {
   "display_name": "Python [default]",
   "language": "python",
   "name": "python3"
  },
  "language_info": {
   "codemirror_mode": {
    "name": "ipython",
    "version": 3
   },
   "file_extension": ".py",
   "mimetype": "text/x-python",
   "name": "python",
   "nbconvert_exporter": "python",
   "pygments_lexer": "ipython3",
   "version": "3.5.3"
  }
 },
 "nbformat": 4,
 "nbformat_minor": 2
}
