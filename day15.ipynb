{
 "cells": [
  {
   "cell_type": "code",
   "execution_count": 160,
   "metadata": {
    "collapsed": true
   },
   "outputs": [],
   "source": [
    "import numpy as np\n",
    "fname = 'input_day15.txt'"
   ]
  },
  {
   "cell_type": "code",
   "execution_count": 26,
   "metadata": {
    "collapsed": true
   },
   "outputs": [],
   "source": [
    "data = []\n",
    "with open(fname) as f:\n",
    "    while True:\n",
    "        d = list(f.readline()[:-1])\n",
    "        if len(d)>1:\n",
    "            data.append(d)\n",
    "        else:\n",
    "            break\n",
    "data = np.array(data)"
   ]
  },
  {
   "cell_type": "code",
   "execution_count": 353,
   "metadata": {
    "collapsed": true
   },
   "outputs": [],
   "source": [
    "dudes = np.where((data.flatten() == 'G') | (data.flatten() == 'E'))[0]\n",
    "is_elf = data.flatten()[dudes] == 'E'\n",
    "hp = np.array([200 for ele in dudes])"
   ]
  },
  {
   "cell_type": "code",
   "execution_count": 36,
   "metadata": {
    "collapsed": true
   },
   "outputs": [],
   "source": [
    "is_elf = data.flatten()[dudes] == 'E'"
   ]
  },
  {
   "cell_type": "code",
   "execution_count": 38,
   "metadata": {},
   "outputs": [
    {
     "data": {
      "text/plain": [
       "array([ 85,  89, 132, 148, 165, 216, 329, 342, 343, 373, 377, 405, 418,\n",
       "       458, 459, 485, 491, 551, 585, 618, 628, 650, 681, 682, 690, 701,\n",
       "       712, 783, 915, 979])"
      ]
     },
     "execution_count": 38,
     "metadata": {},
     "output_type": "execute_result"
    }
   ],
   "source": [
    "dudes"
   ]
  },
  {
   "cell_type": "code",
   "execution_count": 44,
   "metadata": {},
   "outputs": [
    {
     "data": {
      "text/plain": [
       "(32, 32)"
      ]
     },
     "execution_count": 44,
     "metadata": {},
     "output_type": "execute_result"
    }
   ],
   "source": [
    "data.shape"
   ]
  },
  {
   "cell_type": "code",
   "execution_count": 122,
   "metadata": {
    "collapsed": true
   },
   "outputs": [],
   "source": [
    "def dup_rows(a):\n",
    "    for indx in range(a.shape[0])[::-1]:\n",
    "        a = np.insert(a,[indx+1]*3,a[indx],axis=0)\n",
    "    return a"
   ]
  },
  {
   "cell_type": "code",
   "execution_count": null,
   "metadata": {
    "collapsed": true
   },
   "outputs": [],
   "source": []
  },
  {
   "cell_type": "code",
   "execution_count": 513,
   "metadata": {
    "scrolled": false
   },
   "outputs": [
    {
     "name": "stdout",
     "output_type": "stream",
     "text": [
      "(10, 23)\n",
      "(20, 10)\n",
      "(11, 21)\n",
      "(15, 11)\n",
      "(13, 11)\n",
      "(20, 19)\n",
      "(23, 11)\n",
      "(20, 12)\n",
      "(21, 11)\n",
      "(20, 20)\n",
      "(21, 20)\n",
      "no enemies remaining!\n",
      "outcome: 190450\n"
     ]
    }
   ],
   "source": [
    "board = data.copy()\n",
    "dudes = np.where((board.flatten() == 'G') | (board.flatten() == 'E'))[0]\n",
    "is_elf = board.flatten()[dudes] == 'E'\n",
    "hp = np.array([200 for ele in dudes])\n",
    "steps = (np.array([1,0]), np.array([-1,0]), np.array([0,1]), np.array([0,-1]))\n",
    "nround = 0\n",
    "while True:\n",
    "    #print('asdf: {}'.format(len(dudes)))\n",
    "    ordering = np.argsort(dudes)\n",
    "    dudes = dudes[ordering] #locations (1-d) of dudes\n",
    "    is_elf = is_elf[ordering] #boolean\n",
    "    hp = hp[ordering] #int, starts at 200\n",
    "    \n",
    "    unrav_loc = np.array(np.unravel_index(dudes, board.shape, order='C')).T\n",
    "    asdf = False\n",
    "    i=0\n",
    "    while i < len(dudes):\n",
    "        target = None\n",
    "        bad_guy = 'G' if is_elf[i] else 'E'\n",
    "        good_guy = 'E' if is_elf[i] else 'G'\n",
    "        \n",
    "        currentloc = unrav_loc[i:i+1,:] #the i:i+1 makes it keep the 2nd dimension\n",
    "        adj_squares = np.tile(currentloc, (4,1)) + steps\n",
    "        \n",
    "        can_attack = False\n",
    "        \n",
    "        if bad_guy in board[tuple(adj_squares.T)]:\n",
    "            can_attack = True\n",
    "        else:\n",
    "            searchmap = board.copy().astype('U2')\n",
    "            stepcount = 1\n",
    "            cloc = currentloc.copy()\n",
    "            searchmap[tuple(currentloc.T)] = 'X'\n",
    "            cant_move = False\n",
    "            while True:\n",
    "                search_adj = dup_rows(cloc) + np.tile(steps, (cloc.shape[0],1))\n",
    "                is_bad_in_search = searchmap[tuple(search_adj.T)] == bad_guy\n",
    "                adj_baddies = search_adj[is_bad_in_search]\n",
    "                if len(adj_baddies) > 0:\n",
    "                    #print('found bad guy {} steps away'.format(stepcount))\n",
    "                    if len(adj_baddies) > 1:\n",
    "                        spot = np.sort([ele[0]*board.shape[0] + ele[1] for ele in adj_baddies])[0]\n",
    "                        target = np.array(np.unravel_index(spot, board.shape, order='C')).T\n",
    "\n",
    "                    else:\n",
    "                        target = adj_baddies[0]\n",
    "                    break\n",
    "                search_adj = np.unique(search_adj, axis=0)\n",
    "                open_adj = search_adj[searchmap[tuple(search_adj.T)] == '.',:]\n",
    "                if len(open_adj) == 0:\n",
    "                    cant_move = True\n",
    "                    break\n",
    "                searchmap[tuple(open_adj.T)] = str(stepcount)\n",
    "                cloc = open_adj\n",
    "                stepcount +=1\n",
    "                asdf = True\n",
    "                \n",
    "            if cant_move:\n",
    "                i+=1\n",
    "                continue\n",
    "            \n",
    "            cloc = target\n",
    "            stepcount -=1\n",
    "            while True:\n",
    "                open_adj = np.where(searchmap == str(stepcount))\n",
    "                if cloc.ndim == 1:\n",
    "                    cloc = np.expand_dims(cloc, axis=0)\n",
    "                search_adj = dup_rows(cloc) + np.tile(steps, (cloc.shape[0],1))\n",
    "                cloc = np.array([ele for ele in search_adj.tolist() if ele in np.array(open_adj).T.tolist()])\n",
    "                cloc = np.unique(cloc,axis=0)\n",
    "                stepcount -=1\n",
    "                if stepcount == 0:\n",
    "                    spot = np.sort([ele[0]*board.shape[0] + ele[1] for ele in cloc])[0]\n",
    "                    next_step = np.array(np.unravel_index(spot, board.shape, order='C')).T\n",
    "                    board[tuple(next_step.T)] = good_guy\n",
    "                    board[tuple(currentloc.T)] = '.'\n",
    "                    unrav_loc[i] = next_step.T\n",
    "                    break\n",
    "                \n",
    "            adj_squares = np.tile(next_step, (4,1)) + steps\n",
    "            \n",
    "        \n",
    "        if bad_guy in board[tuple(adj_squares.T)]:\n",
    "            #print('we are going to attack!')\n",
    "            baddies_near = board[tuple(adj_squares.T)] == bad_guy\n",
    "            squarenums_with_baddies = adj_squares[baddies_near,0]*board.shape[0] + adj_squares[baddies_near,1]\n",
    "            baddies_ind = np.array([np.where(ele == dudes)[0][0] for ele in squarenums_with_baddies])\n",
    "            hp_of_baddies = hp[baddies_ind]\n",
    "            chosen_baddie = np.argsort(1e6*(200 - hp_of_baddies) + baddies_ind)[0]\n",
    "            #print(chosen_baddie)\n",
    "            target_ind = baddies_ind[chosen_baddie]\n",
    "            target = np.unravel_index(squarenums_with_baddies[chosen_baddie], board.shape, order='C')\n",
    "            can_attack = True\n",
    "        else:\n",
    "            can_attack = False\n",
    "                    \n",
    "        #COMBAT\n",
    "        if can_attack:\n",
    "            badguy_index = target_ind\n",
    "            #print('attacking {}, loc {}, hp {}'.format(badguy_index, target, hp[badguy_index]))\n",
    "            hp[badguy_index] = hp[badguy_index] - 3\n",
    "            if hp[badguy_index] < 1:\n",
    "                print(target)\n",
    "                board[target] = '.'\n",
    "                \n",
    "        #remove dead dudes\n",
    "        dudes = np.array([ele[0]*board.shape[0] + ele[1] for ele in unrav_loc])\n",
    "        dudes = dudes[hp>0]\n",
    "        is_elf = is_elf[hp>0]\n",
    "        unrav_loc = unrav_loc[hp>0, :]\n",
    "        hp = hp[hp>0]\n",
    "            \n",
    "        i+=1\n",
    "\n",
    "    #print(hp[is_elf])\n",
    "    #print(hp[~is_elf])\n",
    "    #print(\"\\n\".join([\"\".join(ele) for ele in board])); print('\\n')\n",
    "    if all(is_elf[hp>0]) or all(~is_elf[hp>0]):\n",
    "        print('no enemies remaining!')\n",
    "        print('outcome: {}'.format((nround)*sum(hp[hp>0])))\n",
    "        break\n",
    "        \n",
    "    nround +=1\n"
   ]
  },
  {
   "cell_type": "code",
   "execution_count": 498,
   "metadata": {},
   "outputs": [
    {
     "data": {
      "text/plain": [
       "array(['E'], dtype='<U1')"
      ]
     },
     "execution_count": 498,
     "metadata": {},
     "output_type": "execute_result"
    }
   ],
   "source": [
    "board[target]"
   ]
  },
  {
   "cell_type": "code",
   "execution_count": 458,
   "metadata": {},
   "outputs": [
    {
     "data": {
      "text/plain": [
       "array([0, 1, 2, 3, 4])"
      ]
     },
     "execution_count": 458,
     "metadata": {},
     "output_type": "execute_result"
    }
   ],
   "source": [
    "np.argsort(range(5))"
   ]
  },
  {
   "cell_type": "code",
   "execution_count": 440,
   "metadata": {},
   "outputs": [
    {
     "data": {
      "text/plain": [
       "69"
      ]
     },
     "execution_count": 440,
     "metadata": {},
     "output_type": "execute_result"
    }
   ],
   "source": [
    "nround"
   ]
  },
  {
   "cell_type": "code",
   "execution_count": 441,
   "metadata": {},
   "outputs": [
    {
     "data": {
      "text/plain": [
       "205689"
      ]
     },
     "execution_count": 441,
     "metadata": {},
     "output_type": "execute_result"
    }
   ],
   "source": [
    "69*2981"
   ]
  },
  {
   "cell_type": "code",
   "execution_count": 372,
   "metadata": {},
   "outputs": [
    {
     "data": {
      "text/plain": [
       "array(['.', 'G', '.', '.'], dtype='<U1')"
      ]
     },
     "execution_count": 372,
     "metadata": {},
     "output_type": "execute_result"
    }
   ],
   "source": [
    "board[tuple(adj_squares.T)]"
   ]
  },
  {
   "cell_type": "code",
   "execution_count": 432,
   "metadata": {},
   "outputs": [
    {
     "data": {
      "text/plain": [
       "(17400, 2)"
      ]
     },
     "execution_count": 432,
     "metadata": {},
     "output_type": "execute_result"
    }
   ],
   "source": [
    "cloc.shape"
   ]
  },
  {
   "cell_type": "code",
   "execution_count": 335,
   "metadata": {},
   "outputs": [
    {
     "data": {
      "text/plain": [
       "array([[ 2, 21],\n",
       "       [ 2, 25],\n",
       "       [ 4,  4],\n",
       "       [29, 19],\n",
       "       [ 5,  5],\n",
       "       [ 6, 24],\n",
       "       [10,  9],\n",
       "       [10, 22],\n",
       "       [10, 23],\n",
       "       [11, 21],\n",
       "       [11, 25],\n",
       "       [12, 21],\n",
       "       [13,  2],\n",
       "       [14, 10],\n",
       "       [14, 11],\n",
       "       [15,  5],\n",
       "       [15, 11],\n",
       "       [17,  7],\n",
       "       [18,  9],\n",
       "       [19, 10],\n",
       "       [19, 20],\n",
       "       [20, 10],\n",
       "       [21,  9],\n",
       "       [21, 10],\n",
       "       [21, 18],\n",
       "       [21, 29],\n",
       "       [22,  8],\n",
       "       [24, 15],\n",
       "       [28, 19],\n",
       "       [30, 19]])"
      ]
     },
     "execution_count": 335,
     "metadata": {},
     "output_type": "execute_result"
    }
   ],
   "source": [
    "unrav_loc"
   ]
  },
  {
   "cell_type": "code",
   "execution_count": 507,
   "metadata": {},
   "outputs": [
    {
     "name": "stdout",
     "output_type": "stream",
     "text": [
      "################################\n",
      "###################........#####\n",
      "###################.....#...####\n",
      "####################........####\n",
      "##...###############.......#####\n",
      "###...###############.....######\n",
      "#####.######..######.....##..###\n",
      "#####.........####............##\n",
      "#########...#####.............##\n",
      "#########...####.......G......##\n",
      "#########.#####......GGEG.....##\n",
      "#########...........GEGG.....###\n",
      "######.###....#####..G........##\n",
      "#..#....##...#######.........###\n",
      "##.#....##.G#########.........##\n",
      "#.....#...GE#########....#....##\n",
      "#..........G#########.......####\n",
      "#####.......#########...##....##\n",
      "#####.......#########.#.......##\n",
      "#######.G.G..#######......#...##\n",
      "######...GEG..#####............#\n",
      "######....G..............#.....#\n",
      "#######....G#....#..#...#.....##\n",
      "#######...G.G....#####..####.###\n",
      "########...G....################\n",
      "#######..........###############\n",
      "########.............###########\n",
      "#########...#...##....##########\n",
      "#########.....#.#.....##########\n",
      "################.....###########\n",
      "################.##..###########\n",
      "################################\n"
     ]
    }
   ],
   "source": [
    "print(\"\\n\".join([\"\".join(ele) for ele in board]))"
   ]
  },
  {
   "cell_type": "code",
   "execution_count": null,
   "metadata": {
    "collapsed": true
   },
   "outputs": [],
   "source": []
  },
  {
   "cell_type": "code",
   "execution_count": 260,
   "metadata": {},
   "outputs": [
    {
     "data": {
      "text/plain": [
       "[[12, 21], [10, 21], [11, 22], [11, 20]]"
      ]
     },
     "execution_count": 260,
     "metadata": {},
     "output_type": "execute_result"
    }
   ],
   "source": [
    "search_adj.tolist()"
   ]
  },
  {
   "cell_type": "code",
   "execution_count": 261,
   "metadata": {},
   "outputs": [
    {
     "data": {
      "text/plain": [
       "[[10, 21]]"
      ]
     },
     "execution_count": 261,
     "metadata": {},
     "output_type": "execute_result"
    }
   ],
   "source": [
    "[ele for ele in search_adj.tolist() if ele in np.array(open_adj).T.tolist()]"
   ]
  },
  {
   "cell_type": "code",
   "execution_count": 263,
   "metadata": {},
   "outputs": [
    {
     "data": {
      "text/plain": [
       "array([[2, 1],\n",
       "       [2, 2],\n",
       "       [1, 1],\n",
       "       [1, 2]])"
      ]
     },
     "execution_count": 263,
     "metadata": {},
     "output_type": "execute_result"
    }
   ],
   "source": [
    "np.array([[2,1],[2,2],[1,1],[1,2]])"
   ]
  },
  {
   "cell_type": "code",
   "execution_count": 264,
   "metadata": {},
   "outputs": [
    {
     "data": {
      "text/plain": [
       "array([[1, 1],\n",
       "       [1, 1],\n",
       "       [2, 2],\n",
       "       [2, 2]])"
      ]
     },
     "execution_count": 264,
     "metadata": {},
     "output_type": "execute_result"
    }
   ],
   "source": [
    "np.sort(np.array([[2,1],[2,2],[1,1],[1,2]]),axis=0)"
   ]
  },
  {
   "cell_type": "code",
   "execution_count": 257,
   "metadata": {},
   "outputs": [
    {
     "data": {
      "text/plain": [
       "[array([ 2, 27]),\n",
       " array([ 7, 18]),\n",
       " array([ 7, 24]),\n",
       " array([ 8, 19]),\n",
       " array([ 8, 23]),\n",
       " array([ 9, 20]),\n",
       " array([ 9, 22]),\n",
       " array([10, 21])]"
      ]
     },
     "execution_count": 257,
     "metadata": {},
     "output_type": "execute_result"
    }
   ],
   "source": [
    "list(np.array(open_adj).T)"
   ]
  },
  {
   "cell_type": "code",
   "execution_count": 250,
   "metadata": {},
   "outputs": [
    {
     "data": {
      "text/plain": [
       "array([[ 2, 27],\n",
       "       [ 7, 18],\n",
       "       [ 7, 24],\n",
       "       [ 8, 19],\n",
       "       [ 8, 23],\n",
       "       [ 9, 20],\n",
       "       [ 9, 22],\n",
       "       [10, 21]])"
      ]
     },
     "execution_count": 250,
     "metadata": {},
     "output_type": "execute_result"
    }
   ],
   "source": [
    "np.array(open_adj).T"
   ]
  },
  {
   "cell_type": "code",
   "execution_count": 243,
   "metadata": {},
   "outputs": [
    {
     "data": {
      "text/plain": [
       "array([[False, False, False, ..., False, False, False],\n",
       "       [False, False, False, ..., False, False, False],\n",
       "       [False, False, False, ..., False, False, False],\n",
       "       ...,\n",
       "       [False, False, False, ..., False, False, False],\n",
       "       [False, False, False, ..., False, False, False],\n",
       "       [False, False, False, ..., False, False, False]])"
      ]
     },
     "execution_count": 243,
     "metadata": {},
     "output_type": "execute_result"
    }
   ],
   "source": [
    "searchmap == '8'"
   ]
  },
  {
   "cell_type": "code",
   "execution_count": 225,
   "metadata": {},
   "outputs": [
    {
     "data": {
      "text/plain": [
       "array([[ 1, 20],\n",
       "       [ 1, 22],\n",
       "       [ 2, 19],\n",
       "       [ 2, 23],\n",
       "       [ 3, 20],\n",
       "       [ 3, 22],\n",
       "       [ 4, 21]])"
      ]
     },
     "execution_count": 225,
     "metadata": {},
     "output_type": "execute_result"
    }
   ],
   "source": [
    "np.unique(open_adj,axis=0)"
   ]
  },
  {
   "cell_type": "code",
   "execution_count": 430,
   "metadata": {},
   "outputs": [
    {
     "data": {
      "text/plain": [
       "3"
      ]
     },
     "execution_count": 430,
     "metadata": {},
     "output_type": "execute_result"
    }
   ],
   "source": [
    "stepcount"
   ]
  },
  {
   "cell_type": "code",
   "execution_count": 429,
   "metadata": {},
   "outputs": [
    {
     "name": "stdout",
     "output_type": "stream",
     "text": [
      "################################\n",
      "###################........#####\n",
      "###################.....#...####\n",
      "####################........####\n",
      "##...###############.......#####\n",
      "###...###############.....######\n",
      "#####.######..######.....##..###\n",
      "#####.........####............##\n",
      "#########...#####.............##\n",
      "#########...####G.............##\n",
      "#########.#####..G............##\n",
      "#########......G.............###\n",
      "######.###.G..#####...........##\n",
      "#..#....##GE.#######.....G...###\n",
      "##.#....##.G#########.........##\n",
      "#.....#...GE#########....#....##\n",
      "#..........G#########.G.....####\n",
      "#####.......#########G.G##....##\n",
      "#####.......#########.#.......##\n",
      "#######.....G#######......#...##\n",
      "######.....GE.#####GE..........#\n",
      "######....GE.......E.....#.....#\n",
      "#######....G#....#..#...#.....##\n",
      "#######...GE.....#####..####.###\n",
      "########...GG...################\n",
      "#######..........###############\n",
      "########.............###########\n",
      "#########...#...##....##########\n",
      "#########.....#.#.....##########\n",
      "################.....###########\n",
      "################.##..###########\n",
      "################################\n"
     ]
    }
   ],
   "source": [
    "print(\"\\n\".join([\"\".join(ele) for ele in board]))"
   ]
  },
  {
   "cell_type": "code",
   "execution_count": 428,
   "metadata": {},
   "outputs": [
    {
     "name": "stdout",
     "output_type": "stream",
     "text": [
      "################################\n",
      "###################1514131415161718#####\n",
      "###################1413121314#161718####\n",
      "####################1211121314151617####\n",
      "##...###############11101112131415#####\n",
      "###...###############910111213######\n",
      "#####.######..######7891011##1415###\n",
      "#####.........####456789101112131415##\n",
      "#########...#####234567891011121314##\n",
      "#########...####X12345678910111213##\n",
      "#########.#####21G34567891011121314##\n",
      "#########......G234567891011121314###\n",
      "######.###.G..#####678910111213141516##\n",
      "#..#....##GE.#######89101112G141516###\n",
      "##.#....##.G#########101112131415161718##\n",
      "#.....#...GE#########11121314#16171819##\n",
      "#..........G#########12G1415161718####\n",
      "#####.......#########G.G##18192021##\n",
      "#####.......#########26#22212019202122##\n",
      "#######.....G#######262524232221#212223##\n",
      "######.....GE.#####GE26252423222322232425#\n",
      "######....GE.......E..262524#2423242526#\n",
      "#######....G#....#..#..26#2625242526##\n",
      "#######...GE.....#####..####26###\n",
      "########...GG...################\n",
      "#######..........###############\n",
      "########.............###########\n",
      "#########...#...##....##########\n",
      "#########.....#.#.....##########\n",
      "################.....###########\n",
      "################.##..###########\n",
      "################################\n"
     ]
    }
   ],
   "source": [
    "print(\"\\n\".join([\"\".join(ele) for ele in searchmap]))"
   ]
  },
  {
   "cell_type": "code",
   "execution_count": 75,
   "metadata": {
    "collapsed": true
   },
   "outputs": [],
   "source": [
    "board = data.copy()\n",
    "unrav_loc = np.array(np.unravel_index(dudes, board.shape, order='C')).T\n",
    "steps = ((1,0), (-1,0), (0,1), (0,-1))"
   ]
  },
  {
   "cell_type": "code",
   "execution_count": 48,
   "metadata": {
    "collapsed": true
   },
   "outputs": [],
   "source": [
    "steps = (np.array([1,0]), np.array([-1,0]), np.array([0,1]), np.array([0,-1]))"
   ]
  },
  {
   "cell_type": "code",
   "execution_count": 144,
   "metadata": {},
   "outputs": [
    {
     "data": {
      "text/plain": [
       "array([False, False, False, False])"
      ]
     },
     "execution_count": 144,
     "metadata": {},
     "output_type": "execute_result"
    }
   ],
   "source": [
    "is_bad_in_search"
   ]
  },
  {
   "cell_type": "code",
   "execution_count": 139,
   "metadata": {},
   "outputs": [
    {
     "data": {
      "text/plain": [
       "array(['.', '#', '#', '.'], dtype='<U1')"
      ]
     },
     "execution_count": 139,
     "metadata": {},
     "output_type": "execute_result"
    }
   ],
   "source": [
    "searchmap[search_adj[:,0], search_adj[:,1]]"
   ]
  },
  {
   "cell_type": "code",
   "execution_count": 138,
   "metadata": {},
   "outputs": [
    {
     "data": {
      "text/plain": [
       "(4, 2)"
      ]
     },
     "execution_count": 138,
     "metadata": {},
     "output_type": "execute_result"
    }
   ],
   "source": [
    "search_adj.shape"
   ]
  },
  {
   "cell_type": "code",
   "execution_count": 149,
   "metadata": {},
   "outputs": [
    {
     "data": {
      "text/plain": [
       "array(['.', '#', '#', '.'], dtype='<U1')"
      ]
     },
     "execution_count": 149,
     "metadata": {},
     "output_type": "execute_result"
    }
   ],
   "source": [
    "searchmap[tuple(search_adj.T)]"
   ]
  },
  {
   "cell_type": "code",
   "execution_count": 152,
   "metadata": {},
   "outputs": [
    {
     "data": {
      "text/plain": [
       "array([ True, False, False,  True])"
      ]
     },
     "execution_count": 152,
     "metadata": {},
     "output_type": "execute_result"
    }
   ],
   "source": [
    "searchmap[tuple(search_adj.T)] == '.'"
   ]
  },
  {
   "cell_type": "code",
   "execution_count": 154,
   "metadata": {},
   "outputs": [
    {
     "data": {
      "text/plain": [
       "array([[5, 4],\n",
       "       [4, 3]])"
      ]
     },
     "execution_count": 154,
     "metadata": {},
     "output_type": "execute_result"
    }
   ],
   "source": [
    "search_adj[searchmap[tuple(search_adj.T)] == '.']"
   ]
  },
  {
   "cell_type": "code",
   "execution_count": 157,
   "metadata": {},
   "outputs": [
    {
     "data": {
      "text/plain": [
       "array(['.', '#', '#', '.'], dtype='<U1')"
      ]
     },
     "execution_count": 157,
     "metadata": {},
     "output_type": "execute_result"
    }
   ],
   "source": [
    "searchmap[tuple(search_adj.T)]"
   ]
  },
  {
   "cell_type": "code",
   "execution_count": null,
   "metadata": {
    "collapsed": true
   },
   "outputs": [],
   "source": []
  }
 ],
 "metadata": {
  "kernelspec": {
   "display_name": "Python [default]",
   "language": "python",
   "name": "python3"
  },
  "language_info": {
   "codemirror_mode": {
    "name": "ipython",
    "version": 3
   },
   "file_extension": ".py",
   "mimetype": "text/x-python",
   "name": "python",
   "nbconvert_exporter": "python",
   "pygments_lexer": "ipython3",
   "version": "3.5.3"
  }
 },
 "nbformat": 4,
 "nbformat_minor": 2
}
