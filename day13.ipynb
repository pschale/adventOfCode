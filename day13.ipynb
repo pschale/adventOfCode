{
 "cells": [
  {
   "cell_type": "code",
   "execution_count": 10,
   "metadata": {
    "collapsed": true
   },
   "outputs": [],
   "source": [
    "import numpy as np"
   ]
  },
  {
   "cell_type": "code",
   "execution_count": 2,
   "metadata": {
    "collapsed": true
   },
   "outputs": [],
   "source": [
    "fname = 'input_day13.txt'"
   ]
  },
  {
   "cell_type": "code",
   "execution_count": 178,
   "metadata": {
    "collapsed": true
   },
   "outputs": [],
   "source": [
    "data = []\n",
    "with open(fname) as f:\n",
    "    while True:\n",
    "        d = f.readline()\n",
    "        if len(d) > 1:\n",
    "            data.append(list(d[:-1]))\n",
    "        else:\n",
    "            break\n",
    "master_data = np.array(data)"
   ]
  },
  {
   "cell_type": "code",
   "execution_count": 196,
   "metadata": {},
   "outputs": [
    {
     "name": "stdout",
     "output_type": "stream",
     "text": [
      "CRASH at (103, 63), round 131\n",
      "other car that crashed at (103, 63)\n",
      "CRASH at (138, 114), round 200\n",
      "other car that crashed at (138, 114)\n",
      "CRASH at (50, 85), round 389\n",
      "other car that crashed at (50, 85)\n",
      "CRASH at (43, 110), round 524\n",
      "other car that crashed at (43, 110)\n",
      "CRASH at (81, 105), round 609\n",
      "other car that crashed at (81, 105)\n",
      "CRASH at (74, 68), round 662\n",
      "other car that crashed at (74, 68)\n",
      "CRASH at (95, 119), round 1227\n",
      "other car that crashed at (95, 119)\n",
      "CRASH at (98, 59), round 11931\n",
      "other car that crashed at (98, 59)\n",
      "[134] [16]\n"
     ]
    }
   ],
   "source": [
    "data = master_data.copy()\n",
    "cars = np.where(np.isin(data.flatten(), ['^', '>', '<', 'v']))[0]\n",
    "next_turn = np.array([-1 for i in range(len(cars))])\n",
    "last_symbol = np.array(['' for i in range(len(cars))])\n",
    "crashed = np.array([0 for i in range(len(cars))])\n",
    "\n",
    "turn_dict = {'>\\\\': 'v',\n",
    "             '>/': '^',\n",
    "             '^\\\\': '<',\n",
    "             '^/': '>',\n",
    "             '<\\\\': '^',\n",
    "             '</': 'v',\n",
    "             'v\\\\': '>',\n",
    "             'v/': '<'}\n",
    "\n",
    "dirs = ['^', '>', 'v', '<']\n",
    "round = 0\n",
    "verbose = False\n",
    "while True:\n",
    "    ordering = np.argsort(cars)\n",
    "        cars = cars[ordering]\n",
    "    next_turn = next_turn[ordering]\n",
    "    last_symbol = last_symbol[ordering]\n",
    "    crashed = crashed[ordering]\n",
    "    unraveled = np.unravel_index(cars, (150, 150), order='C')\n",
    "    for i in range(17):\n",
    "        if crashed[i]:\n",
    "            continue\n",
    "            \n",
    "        startpoint = (unraveled[0][i], unraveled[1][i])\n",
    "        carsym = data[startpoint]\n",
    "        if verbose:\n",
    "            print('car number: {} at location {}'.format(i, startpoint))\n",
    "            print('current carsym is: ' + carsym)\n",
    "        if carsym == '^':\n",
    "            next_point = (unraveled[0][i]-1, unraveled[1][i])\n",
    "            expected = '|'\n",
    "        elif carsym == '>':\n",
    "            next_point = (unraveled[0][i], unraveled[1][i]+1)\n",
    "            expected = '-'\n",
    "        elif carsym == 'v':\n",
    "            next_point = (unraveled[0][i]+1, unraveled[1][i])\n",
    "            expected = '|'\n",
    "        elif carsym == '<':\n",
    "            next_point = (unraveled[0][i], unraveled[1][i]-1)\n",
    "            expected = '-'\n",
    "        elif carsym == 'X':\n",
    "            crashed[i] = 1\n",
    "            print('other car that crashed at {}'.format(startpoint))\n",
    "            data[startpoint] = last_symbol[i]\n",
    "            continue\n",
    "            # car crashed\n",
    "        else:\n",
    "            raise ValueError('no car there :(')\n",
    "            \n",
    "        old = data[next_point]\n",
    "        #print('going to {}, which currently has {}'.format(next_point, old))\n",
    "        if old == expected:\n",
    "            next_symbol = carsym\n",
    "        elif old in ['\\\\', '/']:\n",
    "            next_symbol = turn_dict[carsym + data[next_point]]\n",
    "        elif old == '+':\n",
    "            next_symbol = dirs[(dirs.index(carsym) + next_turn[i])%4]\n",
    "            next_turn[i] = (next_turn[i] + 2) % 3 - 1\n",
    "        elif old in dirs:\n",
    "            next_symbol = 'X'\n",
    "            crashed[i] = 1\n",
    "            print('CRASH at {}, round {}'.format(next_point, round))\n",
    "            \n",
    "        if verbose:  \n",
    "            print('moving to {}, symbol {} becoming {}'.format(next_point, old, next_symbol))\n",
    "        data[next_point] = next_symbol\n",
    "\n",
    "\n",
    "            \n",
    "        unraveled[0][i] = next_point[0]\n",
    "        unraveled[1][i] = next_point[1]\n",
    "        cars = np.array([unraveled[1][j] + unraveled[0][j]*150 for j in range(17)])\n",
    "            \n",
    "        if not last_symbol[i]:\n",
    "            data[startpoint] = expected\n",
    "        else:\n",
    "            data[startpoint] = last_symbol[i]\n",
    "        if verbose:\n",
    "            print('vacated point has become: {}'.format(data[startpoint]))\n",
    "            print('\\n')\n",
    "        last_symbol[i] = old\n",
    "    round += 1\n",
    "    if sum(crashed) > 14:\n",
    "        last_car_index = np.where(crashed==0)\n",
    "        print(unraveled[0][last_car_index], unraveled[1][last_car_index])\n",
    "        break\n",
    "\n",
    "    #print('THROUGH THE LOOP ONCE!')"
   ]
  }
 ],
 "metadata": {
  "kernelspec": {
   "display_name": "Python [default]",
   "language": "python",
   "name": "python3"
  },
  "language_info": {
   "codemirror_mode": {
    "name": "ipython",
    "version": 3
   },
   "file_extension": ".py",
   "mimetype": "text/x-python",
   "name": "python",
   "nbconvert_exporter": "python",
   "pygments_lexer": "ipython3",
   "version": "3.5.3"
  }
 },
 "nbformat": 4,
 "nbformat_minor": 2
}
