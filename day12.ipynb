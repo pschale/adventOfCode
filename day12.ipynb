{
 "cells": [
  {
   "cell_type": "code",
   "execution_count": 10,
   "metadata": {},
   "outputs": [],
   "source": [
    "import numpy as np\n",
    "import pandas as pd\n",
    "from time import time\n",
    "from tqdm import tqdm\n",
    "from matplotlib import pyplot as plt"
   ]
  },
  {
   "cell_type": "code",
   "execution_count": 2,
   "metadata": {
    "collapsed": true
   },
   "outputs": [],
   "source": [
    "fname = 'input_day12.txt'"
   ]
  },
  {
   "cell_type": "code",
   "execution_count": 3,
   "metadata": {},
   "outputs": [],
   "source": [
    "data = []\n",
    "with open(fname) as f:\n",
    "    while True:\n",
    "        try:\n",
    "            d = f.readline()\n",
    "            if d=='':\n",
    "                break\n",
    "                \n",
    "            data.append(d)\n",
    "        except:\n",
    "            break\n",
    "        "
   ]
  },
  {
   "cell_type": "code",
   "execution_count": 4,
   "metadata": {},
   "outputs": [
    {
     "data": {
      "text/plain": [
       "['initial state: #.#####.#.#.####.####.#.#...#.......##..##.#.#.#.###..#.....#.####..#.#######.#....####.#....##....#\\n',\n",
       " '\\n',\n",
       " '##.## => .\\n',\n",
       " '#.#.. => .\\n',\n",
       " '..... => .\\n',\n",
       " '##..# => #\\n',\n",
       " '###.. => #\\n',\n",
       " '.##.# => .\\n',\n",
       " '..#.. => #\\n',\n",
       " '##.#. => #\\n',\n",
       " '.##.. => .\\n',\n",
       " '#..#. => .\\n',\n",
       " '###.# => #\\n',\n",
       " '.#### => #\\n',\n",
       " '.#.## => .\\n',\n",
       " '#.##. => #\\n',\n",
       " '.###. => #\\n',\n",
       " '##### => .\\n',\n",
       " '..##. => .\\n',\n",
       " '#.#.# => .\\n',\n",
       " '...#. => #\\n',\n",
       " '..### => .\\n',\n",
       " '.#.#. => #\\n',\n",
       " '.#... => #\\n',\n",
       " '##... => #\\n',\n",
       " '.#..# => #\\n',\n",
       " '#.### => #\\n',\n",
       " '#..## => #\\n',\n",
       " '....# => .\\n',\n",
       " '####. => .\\n',\n",
       " '#...# => #\\n',\n",
       " '#.... => .\\n',\n",
       " '...## => .\\n',\n",
       " '..#.# => #\\n']"
      ]
     },
     "execution_count": 4,
     "metadata": {},
     "output_type": "execute_result"
    }
   ],
   "source": [
    "data"
   ]
  },
  {
   "cell_type": "code",
   "execution_count": 5,
   "metadata": {
    "collapsed": true
   },
   "outputs": [],
   "source": [
    "init_state = '#.#####.#.#.####.####.#.#...#.......##..##.#.#.#.###..#.....#.####..#.#######.#....####.#....##....#'"
   ]
  },
  {
   "cell_type": "code",
   "execution_count": 6,
   "metadata": {},
   "outputs": [],
   "source": [
    "plants = ['.' for i in range(50)] + list(init_state) + ['.' for i in range(50)]\n",
    "instructions = []\n",
    "for i in range(2, len(data)):\n",
    "    stuff = [data[i][:5], data[i][-2]]\n",
    "    instructions.append(stuff)"
   ]
  },
  {
   "cell_type": "code",
   "execution_count": 7,
   "metadata": {},
   "outputs": [
    {
     "data": {
      "text/plain": [
       "array(['#'], dtype='<U5')"
      ]
     },
     "execution_count": 7,
     "metadata": {},
     "output_type": "execute_result"
    }
   ],
   "source": [
    "np.array(instructions)[init_state[:5] == np.array(instructions)[:,0], 1]"
   ]
  },
  {
   "cell_type": "code",
   "execution_count": 40,
   "metadata": {},
   "outputs": [
    {
     "name": "stderr",
     "output_type": "stream",
     "text": [
      "100%|██████████| 5000/5000 [00:03<00:00, 1571.97it/s]"
     ]
    },
    {
     "name": "stdout",
     "output_type": "stream",
     "text": [
      "3.184333086013794\n"
     ]
    },
    {
     "name": "stderr",
     "output_type": "stream",
     "text": [
      "\n"
     ]
    }
   ],
   "source": [
    "t = time()\n",
    "inst = np.array(instructions)\n",
    "buffer = 20\n",
    "adjsize = 10\n",
    "plants = \"\".join(['.' for i in range(buffer)] + list(init_state) + ['.' for i in range(buffer)])\n",
    "next_plants = plants\n",
    "adj = 0\n",
    "sums = []\n",
    "gens = []\n",
    "for i in tqdm(range(5000)):\n",
    "    old_plants = next_plants\n",
    "    next_plants = ''\n",
    "    for j in range(2, 100 + 2*buffer - 2):\n",
    "        next_symbol = inst[old_plants[j-2:j+3] == inst[:,0], 1]\n",
    "        #print(next_symbol == plants[j])\n",
    "        next_plants += next_symbol[0]\n",
    "        #print(next_plants)\n",
    "    next_plants = \"..\" + next_plants + '..'\n",
    "    #print(next_plants)\n",
    "        \n",
    "    if \"#\" in next_plants[100 + 2*buffer - adjsize:]:\n",
    "        #print(i)\n",
    "        if '#' in next_plants[:adjsize]:\n",
    "            raise\n",
    "        next_plants = next_plants[adjsize:] + \"\".join(['.' for i in range(adjsize)])\n",
    "        adj += 1\n",
    "        \n",
    "    if True:#i%100 == 0:\n",
    "        gens.append(i)\n",
    "        sums.append(np.sum(np.where(np.array(list(next_plants))=='#')[0] + adjsize*adj - buffer))\n",
    "        \n",
    "print(time() - t)"
   ]
  },
  {
   "cell_type": "code",
   "execution_count": 36,
   "metadata": {
    "collapsed": true
   },
   "outputs": [],
   "source": [
    "sums = np.array(sums)\n",
    "sumdiff = sums.copy()\n",
    "sumdiff[1:] -=sumdiff[:-1]"
   ]
  },
  {
   "cell_type": "code",
   "execution_count": 41,
   "metadata": {},
   "outputs": [
    {
     "data": {
      "text/plain": [
       "2850000002454"
      ]
     },
     "execution_count": 41,
     "metadata": {},
     "output_type": "execute_result"
    }
   ],
   "source": [
    "sums[-1] + 57*(50000000000 - 5000)"
   ]
  },
  {
   "cell_type": "code",
   "execution_count": null,
   "metadata": {},
   "outputs": [],
   "source": [
    "sums[-1] + (sums[-1] - sums[-2])*(50000000000 - 5000)/100"
   ]
  },
  {
   "cell_type": "code",
   "execution_count": 20,
   "metadata": {},
   "outputs": [],
   "source": [
    "from scipy import interp"
   ]
  },
  {
   "cell_type": "code",
   "execution_count": 26,
   "metadata": {},
   "outputs": [],
   "source": [
    "f = interp([50000000000],gens, sums)"
   ]
  },
  {
   "cell_type": "code",
   "execution_count": 33,
   "metadata": {},
   "outputs": [
    {
     "data": {
      "text/plain": [
       "2850000002511.0"
      ]
     },
     "execution_count": 33,
     "metadata": {},
     "output_type": "execute_result"
    }
   ],
   "source": [
    "(50000000000 - gens[-1])*(sums[-1] - sums[-2])/(gens[-1] - gens[-2]) + sums[-1]"
   ]
  },
  {
   "cell_type": "code",
   "execution_count": null,
   "metadata": {},
   "outputs": [],
   "source": [
    "next_plants"
   ]
  },
  {
   "cell_type": "code",
   "execution_count": null,
   "metadata": {},
   "outputs": [],
   "source": [
    "np.array(list(next_plants))"
   ]
  },
  {
   "cell_type": "code",
   "execution_count": null,
   "metadata": {
    "collapsed": true
   },
   "outputs": [],
   "source": []
  },
  {
   "cell_type": "code",
   "execution_count": null,
   "metadata": {},
   "outputs": [],
   "source": [
    "np.sum(np.where(np.array(list(next_plants))=='#')[0] - 50)"
   ]
  },
  {
   "cell_type": "code",
   "execution_count": null,
   "metadata": {},
   "outputs": [],
   "source": [
    "np.where(np.array(plants)=='#')[0] - 50"
   ]
  },
  {
   "cell_type": "code",
   "execution_count": null,
   "metadata": {},
   "outputs": [],
   "source": [
    "[i for a, i in enumerate(init_state)]"
   ]
  },
  {
   "cell_type": "code",
   "execution_count": null,
   "metadata": {},
   "outputs": [],
   "source": [
    "a = 'asdf'"
   ]
  },
  {
   "cell_type": "code",
   "execution_count": null,
   "metadata": {},
   "outputs": [],
   "source": [
    "b = a"
   ]
  },
  {
   "cell_type": "code",
   "execution_count": null,
   "metadata": {
    "collapsed": true
   },
   "outputs": [],
   "source": [
    "a = ''"
   ]
  },
  {
   "cell_type": "code",
   "execution_count": null,
   "metadata": {},
   "outputs": [],
   "source": [
    "b"
   ]
  },
  {
   "cell_type": "code",
   "execution_count": null,
   "metadata": {
    "collapsed": true
   },
   "outputs": [],
   "source": []
  }
 ],
 "metadata": {
  "kernelspec": {
   "display_name": "Python [default]",
   "language": "python",
   "name": "python3"
  },
  "language_info": {
   "codemirror_mode": {
    "name": "ipython",
    "version": 3
   },
   "file_extension": ".py",
   "mimetype": "text/x-python",
   "name": "python",
   "nbconvert_exporter": "python",
   "pygments_lexer": "ipython3",
   "version": "3.5.3"
  }
 },
 "nbformat": 4,
 "nbformat_minor": 2
}
