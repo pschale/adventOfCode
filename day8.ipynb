{
 "cells": [
  {
   "cell_type": "code",
   "execution_count": 1,
   "metadata": {
    "collapsed": true
   },
   "outputs": [],
   "source": [
    "import numpy as np\n",
    "from copy import copy\n",
    "import sys\n",
    "sys.setrecursionlimit(5000)"
   ]
  },
  {
   "cell_type": "code",
   "execution_count": 2,
   "metadata": {},
   "outputs": [],
   "source": [
    "fname = 'input_day8.txt'\n",
    "data = np.fromfile(fname, sep=' ')\n",
    "data = data.astype(int)"
   ]
  },
  {
   "cell_type": "code",
   "execution_count": 31,
   "metadata": {},
   "outputs": [
    {
     "name": "stdout",
     "output_type": "stream",
     "text": [
      "40977\n"
     ]
    }
   ],
   "source": [
    "meta_count = 0\n",
    "d = list(data)\n",
    "ci = 0\n",
    "while len(d) > 0:\n",
    "    if d[ci]==0:\n",
    "        mc = d[ci+1]\n",
    "        info_index = ci + 2\n",
    "        meta_count += sum(d[info_index:info_index+mc])\n",
    "        d = d[:ci] + d[info_index+mc:]\n",
    "        if ci>0:\n",
    "            d[ci-2] -= 1\n",
    "            ci -= 2\n",
    "    else:\n",
    "        ci += 2        \n",
    "            \n",
    "else:\n",
    "    print(meta_count)"
   ]
  },
  {
   "cell_type": "code",
   "execution_count": 32,
   "metadata": {},
   "outputs": [
    {
     "name": "stdout",
     "output_type": "stream",
     "text": [
      "part 1: 40977\n",
      "part 2: 27490\n"
     ]
    }
   ],
   "source": [
    "#stolen from reddit, should rewrite for part 2 without recursion\n",
    "\n",
    "data = list(data)\n",
    "\n",
    "def parse(data):\n",
    "    children, metas = data[:2]\n",
    "    data = data[2:]\n",
    "    scores = []\n",
    "    totals = 0\n",
    "\n",
    "    for i in range(children):\n",
    "        total, score, data = parse(data)\n",
    "        totals += total\n",
    "        scores.append(score)\n",
    "\n",
    "    totals += sum(data[:metas])\n",
    "\n",
    "    if children == 0:\n",
    "        return (totals, sum(data[:metas]), data[metas:])\n",
    "    else:\n",
    "        return (\n",
    "            totals,\n",
    "            sum(scores[k - 1] for k in data[:metas] if k > 0 and k <= len(scores)),\n",
    "            data[metas:]\n",
    "        )\n",
    "\n",
    "total, value, remaining = parse(data)\n",
    "\n",
    "print('part 1:', total)\n",
    "print('part 2:', value)"
   ]
  },
  {
   "cell_type": "code",
   "execution_count": null,
   "metadata": {
    "collapsed": true
   },
   "outputs": [],
   "source": []
  }
 ],
 "metadata": {
  "kernelspec": {
   "display_name": "Python [default]",
   "language": "python",
   "name": "python3"
  },
  "language_info": {
   "codemirror_mode": {
    "name": "ipython",
    "version": 3
   },
   "file_extension": ".py",
   "mimetype": "text/x-python",
   "name": "python",
   "nbconvert_exporter": "python",
   "pygments_lexer": "ipython3",
   "version": "3.5.3"
  }
 },
 "nbformat": 4,
 "nbformat_minor": 2
}
