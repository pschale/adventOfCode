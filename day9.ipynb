{
 "cells": [
  {
   "cell_type": "code",
   "execution_count": 1,
   "metadata": {
    "collapsed": true
   },
   "outputs": [],
   "source": [
    "import numpy as np\n",
    "from tqdm import tqdm\n",
    "from time import time"
   ]
  },
  {
   "cell_type": "code",
   "execution_count": null,
   "metadata": {
    "collapsed": true
   },
   "outputs": [],
   "source": []
  },
  {
   "cell_type": "code",
   "execution_count": 2,
   "metadata": {
    "collapsed": true
   },
   "outputs": [],
   "source": [
    "#input is easy this time\n",
    "num_players = 423\n",
    "last_marble = 7194400"
   ]
  },
  {
   "cell_type": "code",
   "execution_count": null,
   "metadata": {
    "collapsed": true
   },
   "outputs": [],
   "source": [
    "num_players = 13; last_marble = 7999"
   ]
  },
  {
   "cell_type": "code",
   "execution_count": null,
   "metadata": {
    "collapsed": true
   },
   "outputs": [],
   "source": [
    "#num_players = 7; last_marble = 25"
   ]
  },
  {
   "cell_type": "code",
   "execution_count": 3,
   "metadata": {},
   "outputs": [
    {
     "name": "stderr",
     "output_type": "stream",
     "text": [
      "100%|██████████| 7194399/7194399 [1:51:45<00:00, 1072.91it/s]"
     ]
    },
    {
     "name": "stdout",
     "output_type": "stream",
     "text": [
      "3505711612\n"
     ]
    },
    {
     "name": "stderr",
     "output_type": "stream",
     "text": [
      "\n"
     ]
    }
   ],
   "source": [
    "current_player = 2\n",
    "marble_circle = [0, 1] + [0 for i in range(last_marble)]\n",
    "marble_circle = np.array(marble_circle).astype(int)\n",
    "circle_size = 2\n",
    "player_scores = [0 for i in range(num_players)]\n",
    "current_marble = 1\n",
    "for i in tqdm(range(2,last_marble+1)):\n",
    "    if i%23 == 0:\n",
    "        marble_to_remove = (current_marble - 7) % circle_size\n",
    "        player_scores[current_player] += i + marble_circle[marble_to_remove]\n",
    "        marble_circle[marble_to_remove:circle_size-1] = marble_circle[marble_to_remove+1:circle_size]\n",
    "        #try:\n",
    "        #    marble_circle = marble_circle[:marble_to_remove] + marble_circle[marble_to_remove+1:]\n",
    "        #except:\n",
    "        #    print('this thing')\n",
    "        #    marble_circle = marble_circle[:marble_to_remove]\n",
    "        current_marble = marble_to_remove\n",
    "        circle_size -= 1\n",
    "            \n",
    "    else:\n",
    "        place_after = (current_marble + 1) % circle_size\n",
    "        #print(current_marble, circle_size, place_after)\n",
    "        marble_circle[place_after + 2:circle_size+1] = marble_circle[place_after+1:circle_size]\n",
    "        marble_circle[place_after + 1] = i\n",
    "        #if place_after == len(marble_circle) - 1:\n",
    "        #    marble_circle.append(i)\n",
    "        #else:\n",
    "        #    marble_circle = marble_circle[:place_after+1] + [i] + marble_circle[place_after+1:]\n",
    "        circle_size += 1\n",
    "        current_marble = (place_after + 1) % circle_size\n",
    "    #print(marble_circle[:circle_size], current_marble)\n",
    "    current_player += 1\n",
    "    current_player = current_player % num_players\n",
    "\n",
    "print(max(player_scores))"
   ]
  },
  {
   "cell_type": "code",
   "execution_count": null,
   "metadata": {},
   "outputs": [],
   "source": [
    "#better and faster method\n",
    "\n",
    "t = time()\n",
    "current_player = 2\n",
    "marble_circle = [0, 1] + [0 for i in range(last_marble)]\n",
    "marble_circle = np.array(marble_circle).astype(int)\n",
    "circle_size = 2\n",
    "player_scores = [0 for i in range(num_players)]\n",
    "current_marble = 1\n",
    "i=2\n",
    "thresh = 100000\n",
    "while i < last_marble+1:\n",
    "    \n",
    "    if i%23 == 0:\n",
    "        marble_to_remove = (current_marble - 7) % circle_size\n",
    "        player_scores[current_player] += i + marble_circle[marble_to_remove]\n",
    "        marble_circle[marble_to_remove:circle_size-1] = marble_circle[marble_to_remove+1:circle_size]\n",
    "        current_marble = marble_to_remove\n",
    "        circle_size -= 1\n",
    "        current_player += 1\n",
    "        i+=1\n",
    "    elif (i%23 == 1) and (circle_size > current_marble + 22):\n",
    "        #print(circle_size, i)\n",
    "        current_marble+=1\n",
    "        wg = marble_circle[current_marble:current_marble+22].copy()\n",
    "        marble_circle[current_marble+22:circle_size+22] = marble_circle[current_marble:circle_size]\n",
    "        marble_circle[current_marble:current_marble+44] = np.vstack((wg,range(i, i+22))).reshape((-1,),order='F')\n",
    "        current_player += 22\n",
    "        current_marble = current_marble + 43\n",
    "        circle_size += 22\n",
    "        i += 22\n",
    "    else:\n",
    "        place_after = (current_marble + 1) % circle_size\n",
    "        marble_circle[place_after + 2:circle_size+1] = marble_circle[place_after+1:circle_size]\n",
    "        marble_circle[place_after + 1] = i\n",
    "        circle_size += 1\n",
    "        current_marble = (place_after + 1) % circle_size\n",
    "        i+=1\n",
    "        current_player += 1\n",
    "    if i > thresh:\n",
    "        print(i)\n",
    "        thresh += 100000\n",
    "    #print(marble_circle[:circle_size], current_marble)\n",
    "    current_player = current_player % num_players\n",
    "print(time() - t)\n",
    "print(max(player_scores))"
   ]
  },
  {
   "cell_type": "code",
   "execution_count": null,
   "metadata": {},
   "outputs": [],
   "source": [
    "marble_circle = [0, 1] + [0 for i in range(last_marble)]\n",
    "marble_circle = np.array(marble_circle).astype(int)"
   ]
  },
  {
   "cell_type": "code",
   "execution_count": null,
   "metadata": {},
   "outputs": [],
   "source": [
    "marble_circe[3:5] = marble_circle[2:4]"
   ]
  },
  {
   "cell_type": "code",
   "execution_count": null,
   "metadata": {},
   "outputs": [],
   "source": [
    "marble_circle[:2]"
   ]
  },
  {
   "cell_type": "code",
   "execution_count": null,
   "metadata": {
    "collapsed": true
   },
   "outputs": [],
   "source": []
  }
 ],
 "metadata": {
  "kernelspec": {
   "display_name": "Python [default]",
   "language": "python",
   "name": "python3"
  },
  "language_info": {
   "codemirror_mode": {
    "name": "ipython",
    "version": 3
   },
   "file_extension": ".py",
   "mimetype": "text/x-python",
   "name": "python",
   "nbconvert_exporter": "python",
   "pygments_lexer": "ipython3",
   "version": "3.5.3"
  }
 },
 "nbformat": 4,
 "nbformat_minor": 2
}
