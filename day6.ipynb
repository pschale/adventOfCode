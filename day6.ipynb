{
 "cells": [
  {
   "cell_type": "code",
   "execution_count": 1,
   "metadata": {
    "collapsed": true
   },
   "outputs": [],
   "source": [
    "import numpy as np"
   ]
  },
  {
   "cell_type": "code",
   "execution_count": 13,
   "metadata": {},
   "outputs": [],
   "source": [
    "fname = 'input_day6.txt'\n",
    "xcoords = []\n",
    "ycoords = []\n",
    "with open(fname) as f:\n",
    "    while True:\n",
    "        try:\n",
    "            data = f.readline().split(',')\n",
    "            xcoords.append(int(data[0]))\n",
    "            ycoords.append(int(data[1]))\n",
    "        except:\n",
    "            break"
   ]
  },
  {
   "cell_type": "code",
   "execution_count": 70,
   "metadata": {},
   "outputs": [],
   "source": [
    "canvas_1_dist = np.ones(shape=(390,390)) * 400 #from x,y = 5 to x,y = 395\n",
    "canvas_1_owner = np.ones(shape=(390,390)) * -1\n",
    "for i in range(len(xcoords)):\n",
    "    this_dist_x = np.tile(np.abs((xcoords[i] - 5) - np.arange(390)), (390,1))\n",
    "    this_dist_y = np.transpose(np.tile(np.abs((ycoords[i] - 5) - np.arange(390)), (390,1)))\n",
    "    this_dist = this_dist_x + this_dist_y\n",
    "    canvas_1_owner[canvas_1_dist > this_dist] = i\n",
    "    canvas_1_owner[canvas_1_dist == this_dist] = -1\n",
    "    canvas_1_dist[canvas_1_dist > this_dist] = this_dist[canvas_1_dist > this_dist]"
   ]
  },
  {
   "cell_type": "code",
   "execution_count": 71,
   "metadata": {
    "scrolled": false
   },
   "outputs": [],
   "source": [
    "canvas_2_dist = np.ones(shape=(380,380)) * 450 #from x,y = 10 to x,y = 390\n",
    "canvas_2_owner = np.ones(shape=(380,380)) * -1\n",
    "for i in range(len(xcoords)):\n",
    "    this_dist_x = np.tile(np.abs((xcoords[i] - 10) - np.arange(380)), (380,1))\n",
    "    this_dist_y = np.transpose(np.tile(np.abs((ycoords[i] - 10) - np.arange(380)), (380,1)))\n",
    "    this_dist = this_dist_x + this_dist_y\n",
    "    canvas_2_owner[canvas_2_dist > this_dist] = i\n",
    "    canvas_2_owner[canvas_2_dist == this_dist] = -1\n",
    "    canvas_2_dist[canvas_2_dist > this_dist] = this_dist[canvas_2_dist > this_dist]"
   ]
  },
  {
   "cell_type": "code",
   "execution_count": 86,
   "metadata": {},
   "outputs": [],
   "source": [
    "canvas_2_unrolled = canvas_2_owner.astype(int).ravel()\n",
    "canvas_2_unrolled = canvas_2_unrolled[canvas_2_unrolled>=0]\n",
    "c2_stats = np.bincount(canvas_2_unrolled)\n",
    "\n",
    "canvas_1_unrolled = canvas_1_owner.astype(int).ravel()\n",
    "canvas_1_unrolled = canvas_1_unrolled[canvas_1_unrolled>=0]\n",
    "c1_stats = np.bincount(canvas_1_unrolled)"
   ]
  },
  {
   "cell_type": "code",
   "execution_count": 94,
   "metadata": {},
   "outputs": [
    {
     "name": "stdout",
     "output_type": "stream",
     "text": [
      "4171\n"
     ]
    }
   ],
   "source": [
    "print(np.max(c1_stats[c1_stats == c2_stats])) # part 1 solution"
   ]
  },
  {
   "cell_type": "code",
   "execution_count": 91,
   "metadata": {},
   "outputs": [],
   "source": [
    "total_dist = np.zeros(shape=(550,550)) # from x,y = -100 to x,y = 450\n",
    "for i in range(len(xcoords)):\n",
    "    this_dist_x = np.tile(np.abs((xcoords[i] + 100) - np.arange(550)), (550,1))\n",
    "    this_dist_y = np.transpose(np.tile(np.abs((ycoords[i] + 100) - np.arange(550)), (550,1)))\n",
    "    total_dist = total_dist + this_dist_x + this_dist_y"
   ]
  },
  {
   "cell_type": "code",
   "execution_count": 92,
   "metadata": {},
   "outputs": [
    {
     "name": "stdout",
     "output_type": "stream",
     "text": [
      "39545\n"
     ]
    }
   ],
   "source": [
    "print(np.count_nonzero(total_dist < 10000)) # part 2 solution"
   ]
  },
  {
   "cell_type": "code",
   "execution_count": null,
   "metadata": {
    "collapsed": true
   },
   "outputs": [],
   "source": []
  }
 ],
 "metadata": {
  "kernelspec": {
   "display_name": "Python [default]",
   "language": "python",
   "name": "python3"
  },
  "language_info": {
   "codemirror_mode": {
    "name": "ipython",
    "version": 3
   },
   "file_extension": ".py",
   "mimetype": "text/x-python",
   "name": "python",
   "nbconvert_exporter": "python",
   "pygments_lexer": "ipython3",
   "version": "3.5.3"
  }
 },
 "nbformat": 4,
 "nbformat_minor": 2
}
