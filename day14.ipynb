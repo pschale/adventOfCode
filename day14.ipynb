{
 "cells": [
  {
   "cell_type": "code",
   "execution_count": 2,
   "metadata": {
    "collapsed": true
   },
   "outputs": [],
   "source": [
    "import numpy as np"
   ]
  },
  {
   "cell_type": "code",
   "execution_count": 38,
   "metadata": {
    "collapsed": true
   },
   "outputs": [],
   "source": [
    "i = '846021'\n",
    "#i = '59414'"
   ]
  },
  {
   "cell_type": "code",
   "execution_count": 62,
   "metadata": {},
   "outputs": [
    {
     "name": "stdout",
     "output_type": "stream",
     "text": [
      "adding another 1M\n",
      "adding another 1M\n",
      "adding another 1M\n",
      "adding another 1M\n",
      "adding another 1M\n",
      "adding another 1M\n",
      "adding another 1M\n",
      "adding another 1M\n",
      "adding another 1M\n",
      "adding another 1M\n",
      "adding another 1M\n",
      "adding another 1M\n",
      "adding another 1M\n",
      "adding another 1M\n",
      "adding another 1M\n",
      "adding another 1M\n",
      "adding another 1M\n",
      "adding another 1M\n",
      "adding another 1M\n",
      "adding another 1M\n",
      "Found it!\n"
     ]
    }
   ],
   "source": [
    "vals = np.zeros(shape=(1000000,), dtype=int)\n",
    "vals[0] = 3\n",
    "vals[1] = 7\n",
    "inds = np.array([0,1])\n",
    "current_len = 2\n",
    "while True:\n",
    "    current_vals = vals[inds]\n",
    "    next_vals = np.array(list(str(np.sum(current_vals))), dtype=int)\n",
    "    next_len = current_len+len(next_vals)\n",
    "    vals[current_len:next_len] = next_vals\n",
    "    next_inds = np.mod(inds + vals[inds] + 1, next_len)\n",
    "    \n",
    "    inds = next_inds\n",
    "    current_len = next_len\n",
    "    if current_len > len(i):\n",
    "        #search_set = [vals[current_len-len(i):current_len], vals[current_len-len(i)-1:current_len-1]]\n",
    "        #search_set = [\"\".join([str(ele) for ele in jk]) for jk in search_set]\n",
    "        #print(search_set)\n",
    "        if i in ''.join([str(ele) for ele in vals[current_len - len(i) - 1:current_len]]):#search_set:\n",
    "            print('Found it!')\n",
    "            break\n",
    "    \n",
    "    if current_len > len(vals) - 5:\n",
    "        print('adding another 1M')\n",
    "        vals = np.append(vals, np.zeros(shape=(1000000,),dtype=int))\n",
    "    #if current_len > 2500:\n",
    "    #    break\n",
    "    #if current_len > i+20:\n",
    "    #    break\n"
   ]
  },
  {
   "cell_type": "code",
   "execution_count": 52,
   "metadata": {},
   "outputs": [
    {
     "data": {
      "text/plain": [
       "100000"
      ]
     },
     "execution_count": 52,
     "metadata": {},
     "output_type": "execute_result"
    }
   ],
   "source": [
    "vals.size"
   ]
  },
  {
   "cell_type": "code",
   "execution_count": 21,
   "metadata": {},
   "outputs": [
    {
     "data": {
      "text/plain": [
       "'5482326119'"
      ]
     },
     "execution_count": 21,
     "metadata": {},
     "output_type": "execute_result"
    }
   ],
   "source": [
    "\"\".join([str(ele) for ele in vals[i:i+10]])"
   ]
  },
  {
   "cell_type": "code",
   "execution_count": 65,
   "metadata": {},
   "outputs": [],
   "source": [
    "valstr = ''.join([str(ele) for ele in vals])"
   ]
  },
  {
   "cell_type": "code",
   "execution_count": 66,
   "metadata": {},
   "outputs": [
    {
     "data": {
      "text/plain": [
       "20368140"
      ]
     },
     "execution_count": 66,
     "metadata": {},
     "output_type": "execute_result"
    }
   ],
   "source": [
    "valstr.find('846021')"
   ]
  },
  {
   "cell_type": "code",
   "execution_count": 46,
   "metadata": {},
   "outputs": [
    {
     "data": {
      "text/plain": [
       "'846021'"
      ]
     },
     "execution_count": 46,
     "metadata": {},
     "output_type": "execute_result"
    }
   ],
   "source": [
    "i"
   ]
  },
  {
   "cell_type": "code",
   "execution_count": null,
   "metadata": {
    "collapsed": true
   },
   "outputs": [],
   "source": []
  }
 ],
 "metadata": {
  "kernelspec": {
   "display_name": "Python [default]",
   "language": "python",
   "name": "python3"
  },
  "language_info": {
   "codemirror_mode": {
    "name": "ipython",
    "version": 3
   },
   "file_extension": ".py",
   "mimetype": "text/x-python",
   "name": "python",
   "nbconvert_exporter": "python",
   "pygments_lexer": "ipython3",
   "version": "3.5.3"
  }
 },
 "nbformat": 4,
 "nbformat_minor": 2
}
