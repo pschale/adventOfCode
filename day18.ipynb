{
 "cells": [
  {
   "cell_type": "code",
   "execution_count": 6,
   "metadata": {
    "collapsed": true
   },
   "outputs": [],
   "source": [
    "import numpy as np\n",
    "from scipy.signal import convolve2d\n",
    "from tqdm import tqdm\n",
    "import matplotlib.pyplot as plt"
   ]
  },
  {
   "cell_type": "code",
   "execution_count": 11,
   "metadata": {
    "collapsed": true
   },
   "outputs": [],
   "source": [
    "with open('input_day18.txt') as f:\n",
    "    data = f.readlines()"
   ]
  },
  {
   "cell_type": "code",
   "execution_count": 12,
   "metadata": {},
   "outputs": [],
   "source": [
    "grid = np.array([list(ele)[:-1] for ele in data])"
   ]
  },
  {
   "cell_type": "code",
   "execution_count": 13,
   "metadata": {},
   "outputs": [],
   "source": [
    "x = np.ones((3,3))\n",
    "x[1,1] = 0"
   ]
  },
  {
   "cell_type": "code",
   "execution_count": 14,
   "metadata": {},
   "outputs": [
    {
     "name": "stderr",
     "output_type": "stream",
     "text": [
      "100%|██████████| 10000/10000 [00:05<00:00, 1894.95it/s]"
     ]
    },
    {
     "name": "stdout",
     "output_type": "stream",
     "text": [
      "196726\n"
     ]
    },
    {
     "name": "stderr",
     "output_type": "stream",
     "text": [
      "\n"
     ]
    }
   ],
   "source": [
    "vals = []\n",
    "ivals = []\n",
    "for i in tqdm(range(10000)):\n",
    "    grid_trees = (grid=='|').astype(int)\n",
    "    grid_mill = (grid=='#').astype(int)\n",
    "    grid_open = (grid=='.').astype(int)\n",
    "    ivals.append(i)\n",
    "    vals.append(np.sum(grid_trees)*np.sum(grid_mill))\n",
    "    \n",
    "    num_trees = convolve2d(grid_trees, x, mode='same')\n",
    "    num_mill = convolve2d(grid_mill, x, mode='same')\n",
    "    num_open = convolve2d(grid_open, x, mode='same')\n",
    "    #print(\"\\n\".join([\"\".join(ele) for ele in grid]))\n",
    "    #print('\\n')\n",
    "    \n",
    "    grid[np.where(grid_open & (num_trees >= 3))] = '|'\n",
    "\n",
    "    grid[np.where(grid_trees & (num_mill >= 3))] = '#'\n",
    "    grid[np.where(grid_mill & ((num_trees < 1) | (num_mill < 1)))] = '.'\n",
    "    #print(\"\\n\".join([\"\".join(ele) for ele in grid]))\n",
    "    \n",
    "grid_trees = (grid=='|').astype(int)\n",
    "grid_mill = (grid=='#').astype(int)\n",
    "grid_open = (grid=='.').astype(int) \n",
    "\n",
    "print(np.sum(grid_trees)*np.sum(grid_mill))"
   ]
  },
  {
   "cell_type": "code",
   "execution_count": 15,
   "metadata": {},
   "outputs": [
    {
     "data": {
      "text/plain": [
       "[<matplotlib.lines.Line2D at 0x11fe5d6a0>]"
      ]
     },
     "execution_count": 15,
     "metadata": {},
     "output_type": "execute_result"
    },
    {
     "data": {
      "image/png": "[encoded data removed]",
      "text/plain": [
       "<matplotlib.figure.Figure at 0x11f8fcda0>"
      ]
     },
     "metadata": {},
     "output_type": "display_data"
    }
   ],
   "source": [
    "plt.plot(ivals[-100:], vals[-100:])"
   ]
  },
  {
   "cell_type": "code",
   "execution_count": 23,
   "metadata": {},
   "outputs": [
    {
     "data": {
      "text/plain": [
       "(array([ 2, 30, 58, 86]),)"
      ]
     },
     "execution_count": 23,
     "metadata": {},
     "output_type": "execute_result"
    }
   ],
   "source": [
    "np.where(vals[-100:]==max(vals[-100:]))"
   ]
  },
  {
   "cell_type": "code",
   "execution_count": 24,
   "metadata": {},
   "outputs": [
    {
     "data": {
      "text/plain": [
       "228490"
      ]
     },
     "execution_count": 24,
     "metadata": {},
     "output_type": "execute_result"
    }
   ],
   "source": [
    "#we take advantage of the periodicity\n",
    "vals[9900 + (1000000000 - 9900) % 28]"
   ]
  },
  {
   "cell_type": "code",
   "execution_count": 22,
   "metadata": {},
   "outputs": [
    {
     "data": {
      "text/plain": [
       "9900"
      ]
     },
     "execution_count": 22,
     "metadata": {},
     "output_type": "execute_result"
    }
   ],
   "source": [
    "ivals[9900]"
   ]
  },
  {
   "cell_type": "code",
   "execution_count": 19,
   "metadata": {},
   "outputs": [
    {
     "data": {
      "text/plain": [
       "(array([ 2, 30, 58, 86]),)"
      ]
     },
     "execution_count": 19,
     "metadata": {},
     "output_type": "execute_result"
    }
   ],
   "source": [
    "np.where(vals[-100:]==max(vals[-100:]))"
   ]
  },
  {
   "cell_type": "code",
   "execution_count": null,
   "metadata": {},
   "outputs": [],
   "source": [
    "num_trees"
   ]
  },
  {
   "cell_type": "code",
   "execution_count": null,
   "metadata": {
    "collapsed": true
   },
   "outputs": [],
   "source": [
    "exdata = ['.#.#...|#.', \n",
    "          '.....#|##|',\n",
    "            '.|..|...#.',\n",
    "            '..|#.....#',\n",
    "            '#.#|||#|#|',\n",
    "            '...#.||...',\n",
    "            '.|....|...',\n",
    "            '||...#|.#|',\n",
    "            '|.||||..|.',\n",
    "            '...#.|..|.']\n",
    "exdata = np.array([list(ele) for ele in exdata])\n",
    "grid = exdata"
   ]
  },
  {
   "cell_type": "code",
   "execution_count": null,
   "metadata": {},
   "outputs": [],
   "source": [
    "num_mill"
   ]
  },
  {
   "cell_type": "code",
   "execution_count": null,
   "metadata": {},
   "outputs": [],
   "source": [
    "(num_trees < 1) | (num_mill < 1)"
   ]
  },
  {
   "cell_type": "code",
   "execution_count": null,
   "metadata": {},
   "outputs": [],
   "source": [
    "grid_mill & ((num_trees < 1) | (num_mill < 1))"
   ]
  },
  {
   "cell_type": "code",
   "execution_count": null,
   "metadata": {
    "collapsed": true
   },
   "outputs": [],
   "source": []
  }
 ],
 "metadata": {
  "kernelspec": {
   "display_name": "Python [default]",
   "language": "python",
   "name": "python3"
  },
  "language_info": {
   "codemirror_mode": {
    "name": "ipython",
    "version": 3
   },
   "file_extension": ".py",
   "mimetype": "text/x-python",
   "name": "python",
   "nbconvert_exporter": "python",
   "pygments_lexer": "ipython3",
   "version": "3.5.3"
  }
 },
 "nbformat": 4,
 "nbformat_minor": 2
}
