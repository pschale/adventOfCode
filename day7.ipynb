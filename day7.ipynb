{
 "cells": [
  {
   "cell_type": "code",
   "execution_count": 86,
   "metadata": {
    "collapsed": true
   },
   "outputs": [],
   "source": [
    "import numpy as np\n",
    "from time import time"
   ]
  },
  {
   "cell_type": "code",
   "execution_count": 2,
   "metadata": {
    "collapsed": true
   },
   "outputs": [],
   "source": [
    "fname = 'input_day7.txt'"
   ]
  },
  {
   "cell_type": "code",
   "execution_count": 9,
   "metadata": {},
   "outputs": [],
   "source": [
    "node = []\n",
    "prereq = []\n",
    "with open(fname) as f:\n",
    "    while True:\n",
    "        try:\n",
    "            data = f.readline().split(\" \")\n",
    "            prereq.append(data[1])\n",
    "            node.append(data[7])\n",
    "        except:\n",
    "            break"
   ]
  },
  {
   "cell_type": "code",
   "execution_count": 99,
   "metadata": {},
   "outputs": [
    {
     "name": "stdout",
     "output_type": "stream",
     "text": [
      "Solution: GKPTSLUXBIJMNCADFOVHEWYQRZ\n",
      "Found in 0.004470 seconds\n"
     ]
    }
   ],
   "source": [
    "# solution to part 1\n",
    "t1 = time()\n",
    "all_nodes = np.unique(np.array(node + prereq))\n",
    "constraints = np.array([[node[i], prereq[i]] for i in range(len(node))])\n",
    "sorted_list = []\n",
    "while True:\n",
    "    try:\n",
    "        available = [ele for ele in all_nodes if ele not in constraints[:,0]]\n",
    "        chosen_next = np.sort(available)[0]\n",
    "        sorted_list.append(chosen_next)\n",
    "        all_nodes = [ele for ele in all_nodes if not ele == chosen_next]\n",
    "        constraints = constraints[np.logical_not(constraints[:,1]==chosen_next), :]\n",
    "    except:\n",
    "        break\n",
    "print('Solution: ' + \"\".join(sorted_list))\n",
    "print('Found in {:2f} seconds'.format(time() - t1))"
   ]
  },
  {
   "cell_type": "code",
   "execution_count": 100,
   "metadata": {},
   "outputs": [
    {
     "name": "stdout",
     "output_type": "stream",
     "text": [
      "920\n",
      "Solution: None\n",
      "Found in 0.049653 seconds\n"
     ]
    }
   ],
   "source": [
    "# solution to part 2\n",
    "t2 = time()\n",
    "all_nodes = np.unique(np.array(node + prereq))\n",
    "alphabet = list(np.unique(np.array(node + prereq)))\n",
    "time_needed = [61 + i for i in range(26)]\n",
    "constraints = np.array([[node[i], prereq[i]] for i in range(len(node))])\n",
    "time_finished = np.array([0 for ele in all_nodes])\n",
    "sorted_list = []\n",
    "t = 0\n",
    "elves_idle = 5\n",
    "while True:\n",
    "    for n in range(26):\n",
    "        if time_finished[n] > 0 and t == time_finished[n]:\n",
    "            #print('removing ' + alphabet[n])\n",
    "            constraints = constraints[np.logical_not(constraints[:,1]==alphabet[n]), :]\n",
    "    while True:\n",
    "        if elves_idle > 0:\n",
    "            available = [ele for ele in all_nodes if ele not in constraints[:,0]]\n",
    "            if len(available) == 0:\n",
    "                #print(t)\n",
    "                break\n",
    "            chosen_next = np.sort(available)[0]\n",
    "            sorted_list.append(chosen_next)\n",
    "            chosen_next_index = alphabet.index(chosen_next)\n",
    "            time_finished[chosen_next_index] = t + time_needed[chosen_next_index]\n",
    "            all_nodes = [ele for ele in all_nodes if not ele == chosen_next]\n",
    "            \n",
    "    if len(all_nodes) == 0:\n",
    "        \n",
    "        break\n",
    "            \n",
    "    t += 1\n",
    "print('Solution: {}'.format(print(np.max(time_finished))))\n",
    "print('Found in {:2f} seconds'.format(time() - t2))"
   ]
  },
  {
   "cell_type": "code",
   "execution_count": null,
   "metadata": {
    "collapsed": true
   },
   "outputs": [],
   "source": []
  }
 ],
 "metadata": {
  "kernelspec": {
   "display_name": "Python [default]",
   "language": "python",
   "name": "python3"
  },
  "language_info": {
   "codemirror_mode": {
    "name": "ipython",
    "version": 3
   },
   "file_extension": ".py",
   "mimetype": "text/x-python",
   "name": "python",
   "nbconvert_exporter": "python",
   "pygments_lexer": "ipython3",
   "version": "3.5.3"
  }
 },
 "nbformat": 4,
 "nbformat_minor": 2
}
