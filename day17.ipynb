{
 "cells": [
  {
   "cell_type": "code",
   "execution_count": null,
   "metadata": {
    "collapsed": true
   },
   "outputs": [],
   "source": [
    "import numpy as np"
   ]
  },
  {
   "cell_type": "code",
   "execution_count": null,
   "metadata": {
    "collapsed": true
   },
   "outputs": [],
   "source": [
    "fname = 'input_day17.txt'\n",
    "with open(fname) as f:\n",
    "    rawdata = f.readlines()"
   ]
  },
  {
   "cell_type": "code",
   "execution_count": null,
   "metadata": {},
   "outputs": [],
   "source": [
    "data = [ele.split(',') for ele in rawdata]\n",
    "xdata = [ele for ele in data if ele[0][0]=='x']\n",
    "ydata = [ele for ele in data if ele[0][0]=='y']\n",
    "xdata = [[int(row[0][2:]), int(row[1][:-1].split('..')[0][3:]), int(row[1][:-1].split('..')[1])] for row in xdata]\n",
    "ydata = [[int(row[0][2:]), int(row[1][:-1].split('..')[0][3:]), int(row[1][:-1].split('..')[1])] for row in ydata]"
   ]
  },
  {
   "cell_type": "code",
   "execution_count": null,
   "metadata": {},
   "outputs": [],
   "source": [
    "miny = min([min(ele[1], ele[2]) for ele in xdata])"
   ]
  },
  {
   "cell_type": "code",
   "execution_count": null,
   "metadata": {
    "collapsed": true
   },
   "outputs": [],
   "source": [
    "#example data\n",
    "#xdata = [[495,2,7], [501, 3, 7], [498, 2, 4], [506, 1,2], [498, 10, 13], [504, 10, 13]]\n",
    "#ydata = [[7, 495, 501], [13, 498, 504]]"
   ]
  },
  {
   "cell_type": "code",
   "execution_count": 6,
   "metadata": {},
   "outputs": [
    {
     "name": "stdout",
     "output_type": "stream",
     "text": [
      "part 1: 30737\n",
      "part 2: 24699\n"
     ]
    }
   ],
   "source": [
    "maxy = max([ele[0] for ele in ydata])\n",
    "ground = np.array([['.' for i in range(maxy+1)] for j in range(600)])\n",
    "ground[500,0] = '+'\n",
    "for ele in xdata:\n",
    "    ground[ele[0], ele[1]:ele[2]+1] = '#'\n",
    "for ele in ydata:\n",
    "    ground[ele[1]:ele[2]+1, ele[0]] = '#'\n",
    "    \n",
    "active_nodes = [(500,0)]\n",
    "hit_bottom = False\n",
    "counter = 0\n",
    "left_since_bottom = True\n",
    "while True:\n",
    "    counter +=1\n",
    "    #if counter > 40000:\n",
    "    #    break\n",
    "       \n",
    "    n = active_nodes[-1]\n",
    "    if n[1]==maxy:\n",
    "        #print('at bottom')\n",
    "        #print(active_nodes)\n",
    "        active_nodes.pop()\n",
    "        hit_bottom = True\n",
    "        continue     \n",
    "    down = (n[0], n[1]+1)\n",
    "    left = (n[0]-1, n[1])\n",
    "    right = (n[0]+1, n[1])\n",
    "    up = (n[0], n[1]-1)\n",
    "    if hit_bottom:\n",
    "        #print(n)\n",
    "        if not ground[up] == '|':# and ((ground[left] == '|') ^ (ground[right] == '|')):\n",
    "            #print('not at bottom anymore, {}'.format(n))\n",
    "            hit_bottom = False\n",
    "            left_since_bottom = False\n",
    "        else:\n",
    "            #print('still at bottom, {}'.format(n))\n",
    "            active_nodes.pop()\n",
    "            if len(active_nodes) == 0:\n",
    "                break\n",
    "            continue\n",
    "            \n",
    "    if ground[down] == '.':\n",
    "        next_spot = down\n",
    "    elif ground[left] == '.' and not ground[down] == '|':\n",
    "        next_spot = left\n",
    "        left_since_bottom = True\n",
    "    elif ground[right] == '.' and not ground[down] == '|':\n",
    "        next_spot = right\n",
    "    else:\n",
    "        p = active_nodes.pop()\n",
    "        #if not left_since_bottom:\n",
    "        #    hit_bottom = True\n",
    "        if len(active_nodes) == 0:\n",
    "            break\n",
    "            \n",
    "        if active_nodes[-1] == up:\n",
    "            #print('up')\n",
    "            try:\n",
    "                first_wall_right = np.where(ground[n[0]:, n[1]] == '#')[0][0]\n",
    "            except:\n",
    "                first_wall_right = 2000\n",
    "            try:\n",
    "                first_wall_left = np.where(ground[:n[0], n[1]][::-1] == '#')[0][0]\n",
    "            except:\n",
    "                first_wall_left = 2000\n",
    "\n",
    "            first_space_right = np.where(ground[n[0]:, n[1]] == '.')[0][0]\n",
    "            first_space_left = np.where(ground[:n[0], n[1]][::-1] == '.')[0][0]\n",
    "            \n",
    "            if (first_wall_left < first_space_left) and (first_wall_right < first_space_right):\n",
    "                ground[n[0] - first_wall_left:n[0]+first_wall_right, n[1]] = '~'\n",
    "                \n",
    "            #ground[n] = '~'\n",
    "            \n",
    "        continue\n",
    "        \n",
    "    ground[next_spot] = '|'\n",
    "    active_nodes.append(next_spot)\n",
    "\n",
    "print('part 1: {}'.format(np.count_nonzero(ground[:,miny:]=='|') + np.count_nonzero(ground[:,:]=='~')))\n",
    "print('part 2: {}'.format(np.count_nonzero(ground[:,:]=='~')))"
   ]
  },
  {
   "cell_type": "code",
   "execution_count": null,
   "metadata": {
    "collapsed": true
   },
   "outputs": [],
   "source": []
  }
 ],
 "metadata": {
  "kernelspec": {
   "display_name": "Python [default]",
   "language": "python",
   "name": "python3"
  },
  "language_info": {
   "codemirror_mode": {
    "name": "ipython",
    "version": 3
   },
   "file_extension": ".py",
   "mimetype": "text/x-python",
   "name": "python",
   "nbconvert_exporter": "python",
   "pygments_lexer": "ipython3",
   "version": "3.5.3"
  }
 },
 "nbformat": 4,
 "nbformat_minor": 2
}
