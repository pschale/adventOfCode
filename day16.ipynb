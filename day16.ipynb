{
 "cells": [
  {
   "cell_type": "code",
   "execution_count": 158,
   "metadata": {},
   "outputs": [],
   "source": [
    "from collections import deque\n",
    "import numpy as np"
   ]
  },
  {
   "cell_type": "code",
   "execution_count": 91,
   "metadata": {
    "collapsed": true
   },
   "outputs": [],
   "source": [
    "fname = 'input_day16.txt'\n",
    "in_vals = []\n",
    "instr = []\n",
    "out_vals = []\n",
    "with open(fname) as f:\n",
    "    data = f.readlines()"
   ]
  },
  {
   "cell_type": "code",
   "execution_count": 92,
   "metadata": {},
   "outputs": [],
   "source": [
    "in_vals = []\n",
    "instr = []\n",
    "out_vals = []\n",
    "for line in data:\n",
    "    if line[0:3] == 'Bef':\n",
    "        in_vals.append(line[-12:-2])\n",
    "    elif line[0:3] == 'Aft':\n",
    "        out_vals.append(line[-12:-2])\n",
    "    elif len(line) > 1:\n",
    "        instr.append([int(ele) for ele in line.split(' ')])"
   ]
  },
  {
   "cell_type": "code",
   "execution_count": 93,
   "metadata": {},
   "outputs": [],
   "source": [
    "out_vals = [[int(ele) for ele in d.split(',')] for d in out_vals]\n",
    "in_vals = [[int(ele) for ele in d.split(',')] for d in in_vals]"
   ]
  },
  {
   "cell_type": "code",
   "execution_count": 201,
   "metadata": {
    "collapsed": true
   },
   "outputs": [],
   "source": [
    "p2 = instr[761:]"
   ]
  },
  {
   "cell_type": "code",
   "execution_count": 32,
   "metadata": {},
   "outputs": [],
   "source": [
    "instr = instr[:761]"
   ]
  },
  {
   "cell_type": "code",
   "execution_count": 104,
   "metadata": {},
   "outputs": [],
   "source": [
    "def addr(rin, inst):\n",
    "    return rin[inst[1]] + rin[inst[2]]\n",
    "def addi(rin, inst):\n",
    "    return rin[inst[1]] + inst[2]\n",
    "def mulr(rin, inst):\n",
    "    return rin[inst[1]] * rin[inst[2]]\n",
    "def muli(rin, inst):\n",
    "    return rin[inst[1]] * inst[2]\n",
    "def banr(rin, inst):\n",
    "    return rin[inst[1]] & rin[inst[2]]\n",
    "def bani(rin, inst):\n",
    "    return rin[inst[1]] & inst[2] \n",
    "def borr(rin, inst):\n",
    "    return rin[inst[1]] | rin[inst[2]]\n",
    "def bori(rin, inst):\n",
    "    return rin[inst[1]] | inst[2] \n",
    "def setr(rin, inst):\n",
    "    return rin[inst[1]]\n",
    "def seti(rin, inst):\n",
    "    return inst[1]\n",
    "def gtir(rin, inst):\n",
    "    return int(inst[1] > rin[inst[2]])\n",
    "def gtri(rin, inst):\n",
    "    return int(rin[inst[1]] > inst[2])\n",
    "def gtrr(rin, inst):\n",
    "    return int(rin[inst[1]] > rin[inst[2]])\n",
    "def eqir(rin, inst):\n",
    "    return int(inst[1] == rin[inst[2]])\n",
    "def eqri(rin, inst):\n",
    "    return int(rin[inst[1]] == inst[2])\n",
    "def eqrr(rin, inst):\n",
    "    return int(rin[inst[1]] == rin[inst[2]])"
   ]
  },
  {
   "cell_type": "code",
   "execution_count": 105,
   "metadata": {},
   "outputs": [],
   "source": [
    "funcs = [addr, addi, mulr, muli, banr, bani, borr, bori, setr, seti, gtir, gtri, gtrr, eqir, eqri, eqrr]"
   ]
  },
  {
   "cell_type": "code",
   "execution_count": 122,
   "metadata": {},
   "outputs": [],
   "source": [
    "metacounter = 0\n",
    "instr_ruled_out = [[] for i in range(16)]\n",
    "for i in range(len(out_vals)):\n",
    "    counter = 0\n",
    "    #test addr\n",
    "    rega = in_vals[i][instr[i][1]]\n",
    "    regb = in_vals[i][instr[i][2]]\n",
    "    regc = out_vals[i][instr[i][3]]\n",
    "    vala = instr[i][1]\n",
    "    valb = instr[i][2]\n",
    "\n",
    "    for j, f in enumerate(funcs):\n",
    "        if regc == f(in_vals[i], instr[i]):\n",
    "            counter += 1\n",
    "        else:\n",
    "            instr_ruled_out[instr[i][0]].append(j)\n",
    "    if counter >= 3:\n",
    "        metacounter += 1\n",
    "    \n",
    "    "
   ]
  },
  {
   "cell_type": "code",
   "execution_count": 189,
   "metadata": {
    "collapsed": true
   },
   "outputs": [],
   "source": [
    "possible_instr = [[ele for ele in range(16) if ele not in j] for j in instr_ruled_out]"
   ]
  },
  {
   "cell_type": "code",
   "execution_count": 222,
   "metadata": {},
   "outputs": [],
   "source": [
    "pi = deque(possible_instr)\n",
    "inds = deque(range(len(pi)))\n",
    "lens = [len(ele) for ele in pi]\n",
    "inst_dict = {}\n",
    "while max(lens) > 0:\n",
    "    try:\n",
    "        found_ind = lens.index(1)\n",
    "    except:\n",
    "        break\n",
    "    pi.rotate(-found_ind)\n",
    "    inds.rotate(-found_ind)\n",
    "    found_num = pi.popleft()[0]\n",
    "    found_ind = inds.popleft()\n",
    "    #print(found_ind)\n",
    "    inst_dict[found_ind] = funcs[found_num]\n",
    "    pi = deque([[ele for ele in jk if not ele==found_num] for jk in pi])\n",
    "    lens = [len(ele) for ele in pi]\n",
    "    #print('removed {}'.format(found_num))\n",
    "    \n",
    "    if len(pi) == 0:\n",
    "        break"
   ]
  },
  {
   "cell_type": "code",
   "execution_count": 221,
   "metadata": {},
   "outputs": [
    {
     "name": "stdout",
     "output_type": "stream",
     "text": [
      "[594, 3, 4, 594]\n"
     ]
    }
   ],
   "source": [
    "reg = [0,0,0,0]\n",
    "for instruct in p2:\n",
    "    reg[instruct[3]] = inst_dict[instruct[0]](reg, instruct)\n",
    "print(reg)"
   ]
  },
  {
   "cell_type": "code",
   "execution_count": null,
   "metadata": {
    "collapsed": true
   },
   "outputs": [],
   "source": []
  }
 ],
 "metadata": {
  "kernelspec": {
   "display_name": "Python [default]",
   "language": "python",
   "name": "python3"
  },
  "language_info": {
   "codemirror_mode": {
    "name": "ipython",
    "version": 3
   },
   "file_extension": ".py",
   "mimetype": "text/x-python",
   "name": "python",
   "nbconvert_exporter": "python",
   "pygments_lexer": "ipython3",
   "version": "3.5.3"
  }
 },
 "nbformat": 4,
 "nbformat_minor": 2
}
